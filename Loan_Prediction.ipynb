{
 "cells": [
  {
   "cell_type": "code",
   "execution_count": 1,
   "id": "9a529012",
   "metadata": {},
   "outputs": [],
   "source": [
    "import warnings\n",
    "\n",
    "import itertools\n",
    "import numpy as np\n",
    "import matplotlib.pyplot as plt\n",
    "from matplotlib.ticker import NullFormatter\n",
    "import pandas as pd\n",
    "import matplotlib.ticker as ticker\n",
    "import seaborn as sns\n",
    "\n",
    "\n",
    "from sklearn import preprocessing\n",
    "from sklearn.model_selection import train_test_split\n",
    "from sklearn import metrics\n",
    "from sklearn.model_selection import cross_val_score\n",
    "from sklearn.neighbors import KNeighborsClassifier\n",
    "from sklearn.tree import DecisionTreeClassifier\n",
    "from sklearn import tree\n",
    "import scipy.optimize as opt\n",
    "from sklearn.svm import SVC\n",
    "from sklearn import svm\n",
    "from sklearn.linear_model import LogisticRegression\n",
    "from sklearn.metrics import classification_report, confusion_matrix\n",
    "from sklearn.metrics import jaccard_score\n",
    "from sklearn.metrics import f1_score\n",
    "from sklearn.metrics import log_loss\n",
    "from sklearn.metrics import accuracy_score\n",
    "\n",
    "# ignore warnings\n",
    "warnings.filterwarnings(\"ignore\")\n"
   ]
  },
  {
   "cell_type": "markdown",
   "id": "76c340e8",
   "metadata": {},
   "source": [
    "# Cleaning and Wrangling"
   ]
  },
  {
   "cell_type": "code",
   "execution_count": 2,
   "id": "c40cbf4d",
   "metadata": {},
   "outputs": [],
   "source": [
    "# read datasets\n",
    "train = pd.read_csv('train_u6lujuX_CVtuZ9i.csv')\n",
    "test = pd.read_csv('test_Y3wMUE5_7gLdaTN.csv')"
   ]
  },
  {
   "cell_type": "code",
   "execution_count": 3,
   "id": "395f75cc",
   "metadata": {},
   "outputs": [
    {
     "data": {
      "text/plain": [
       "(614, 13)"
      ]
     },
     "execution_count": 3,
     "metadata": {},
     "output_type": "execute_result"
    }
   ],
   "source": [
    "train.shape"
   ]
  },
  {
   "cell_type": "code",
   "execution_count": 4,
   "id": "9927bcb5",
   "metadata": {},
   "outputs": [
    {
     "data": {
      "text/plain": [
       "(367, 12)"
      ]
     },
     "execution_count": 4,
     "metadata": {},
     "output_type": "execute_result"
    }
   ],
   "source": [
    "test.shape"
   ]
  },
  {
   "cell_type": "code",
   "execution_count": 5,
   "id": "417052b6",
   "metadata": {},
   "outputs": [
    {
     "data": {
      "text/html": [
       "<div>\n",
       "<style scoped>\n",
       "    .dataframe tbody tr th:only-of-type {\n",
       "        vertical-align: middle;\n",
       "    }\n",
       "\n",
       "    .dataframe tbody tr th {\n",
       "        vertical-align: top;\n",
       "    }\n",
       "\n",
       "    .dataframe thead th {\n",
       "        text-align: right;\n",
       "    }\n",
       "</style>\n",
       "<table border=\"1\" class=\"dataframe\">\n",
       "  <thead>\n",
       "    <tr style=\"text-align: right;\">\n",
       "      <th></th>\n",
       "      <th>Loan_ID</th>\n",
       "      <th>Gender</th>\n",
       "      <th>Married</th>\n",
       "      <th>Dependents</th>\n",
       "      <th>Education</th>\n",
       "      <th>Self_Employed</th>\n",
       "      <th>ApplicantIncome</th>\n",
       "      <th>CoapplicantIncome</th>\n",
       "      <th>LoanAmount</th>\n",
       "      <th>Loan_Amount_Term</th>\n",
       "      <th>Credit_History</th>\n",
       "      <th>Property_Area</th>\n",
       "      <th>Loan_Status</th>\n",
       "    </tr>\n",
       "  </thead>\n",
       "  <tbody>\n",
       "    <tr>\n",
       "      <th>0</th>\n",
       "      <td>LP001002</td>\n",
       "      <td>Male</td>\n",
       "      <td>No</td>\n",
       "      <td>0</td>\n",
       "      <td>Graduate</td>\n",
       "      <td>No</td>\n",
       "      <td>5849</td>\n",
       "      <td>0.0</td>\n",
       "      <td>NaN</td>\n",
       "      <td>360.0</td>\n",
       "      <td>1.0</td>\n",
       "      <td>Urban</td>\n",
       "      <td>Y</td>\n",
       "    </tr>\n",
       "    <tr>\n",
       "      <th>1</th>\n",
       "      <td>LP001003</td>\n",
       "      <td>Male</td>\n",
       "      <td>Yes</td>\n",
       "      <td>1</td>\n",
       "      <td>Graduate</td>\n",
       "      <td>No</td>\n",
       "      <td>4583</td>\n",
       "      <td>1508.0</td>\n",
       "      <td>128.0</td>\n",
       "      <td>360.0</td>\n",
       "      <td>1.0</td>\n",
       "      <td>Rural</td>\n",
       "      <td>N</td>\n",
       "    </tr>\n",
       "    <tr>\n",
       "      <th>2</th>\n",
       "      <td>LP001005</td>\n",
       "      <td>Male</td>\n",
       "      <td>Yes</td>\n",
       "      <td>0</td>\n",
       "      <td>Graduate</td>\n",
       "      <td>Yes</td>\n",
       "      <td>3000</td>\n",
       "      <td>0.0</td>\n",
       "      <td>66.0</td>\n",
       "      <td>360.0</td>\n",
       "      <td>1.0</td>\n",
       "      <td>Urban</td>\n",
       "      <td>Y</td>\n",
       "    </tr>\n",
       "    <tr>\n",
       "      <th>3</th>\n",
       "      <td>LP001006</td>\n",
       "      <td>Male</td>\n",
       "      <td>Yes</td>\n",
       "      <td>0</td>\n",
       "      <td>Not Graduate</td>\n",
       "      <td>No</td>\n",
       "      <td>2583</td>\n",
       "      <td>2358.0</td>\n",
       "      <td>120.0</td>\n",
       "      <td>360.0</td>\n",
       "      <td>1.0</td>\n",
       "      <td>Urban</td>\n",
       "      <td>Y</td>\n",
       "    </tr>\n",
       "    <tr>\n",
       "      <th>4</th>\n",
       "      <td>LP001008</td>\n",
       "      <td>Male</td>\n",
       "      <td>No</td>\n",
       "      <td>0</td>\n",
       "      <td>Graduate</td>\n",
       "      <td>No</td>\n",
       "      <td>6000</td>\n",
       "      <td>0.0</td>\n",
       "      <td>141.0</td>\n",
       "      <td>360.0</td>\n",
       "      <td>1.0</td>\n",
       "      <td>Urban</td>\n",
       "      <td>Y</td>\n",
       "    </tr>\n",
       "  </tbody>\n",
       "</table>\n",
       "</div>"
      ],
      "text/plain": [
       "    Loan_ID Gender Married Dependents     Education Self_Employed  \\\n",
       "0  LP001002   Male      No          0      Graduate            No   \n",
       "1  LP001003   Male     Yes          1      Graduate            No   \n",
       "2  LP001005   Male     Yes          0      Graduate           Yes   \n",
       "3  LP001006   Male     Yes          0  Not Graduate            No   \n",
       "4  LP001008   Male      No          0      Graduate            No   \n",
       "\n",
       "   ApplicantIncome  CoapplicantIncome  LoanAmount  Loan_Amount_Term  \\\n",
       "0             5849                0.0         NaN             360.0   \n",
       "1             4583             1508.0       128.0             360.0   \n",
       "2             3000                0.0        66.0             360.0   \n",
       "3             2583             2358.0       120.0             360.0   \n",
       "4             6000                0.0       141.0             360.0   \n",
       "\n",
       "   Credit_History Property_Area Loan_Status  \n",
       "0             1.0         Urban           Y  \n",
       "1             1.0         Rural           N  \n",
       "2             1.0         Urban           Y  \n",
       "3             1.0         Urban           Y  \n",
       "4             1.0         Urban           Y  "
      ]
     },
     "execution_count": 5,
     "metadata": {},
     "output_type": "execute_result"
    }
   ],
   "source": [
    "train.head()"
   ]
  },
  {
   "cell_type": "code",
   "execution_count": 6,
   "id": "af12458b",
   "metadata": {},
   "outputs": [
    {
     "data": {
      "text/html": [
       "<div>\n",
       "<style scoped>\n",
       "    .dataframe tbody tr th:only-of-type {\n",
       "        vertical-align: middle;\n",
       "    }\n",
       "\n",
       "    .dataframe tbody tr th {\n",
       "        vertical-align: top;\n",
       "    }\n",
       "\n",
       "    .dataframe thead th {\n",
       "        text-align: right;\n",
       "    }\n",
       "</style>\n",
       "<table border=\"1\" class=\"dataframe\">\n",
       "  <thead>\n",
       "    <tr style=\"text-align: right;\">\n",
       "      <th></th>\n",
       "      <th>Loan_ID</th>\n",
       "      <th>Gender</th>\n",
       "      <th>Married</th>\n",
       "      <th>Dependents</th>\n",
       "      <th>Education</th>\n",
       "      <th>Self_Employed</th>\n",
       "      <th>ApplicantIncome</th>\n",
       "      <th>CoapplicantIncome</th>\n",
       "      <th>LoanAmount</th>\n",
       "      <th>Loan_Amount_Term</th>\n",
       "      <th>Credit_History</th>\n",
       "      <th>Property_Area</th>\n",
       "    </tr>\n",
       "  </thead>\n",
       "  <tbody>\n",
       "    <tr>\n",
       "      <th>0</th>\n",
       "      <td>LP001015</td>\n",
       "      <td>Male</td>\n",
       "      <td>Yes</td>\n",
       "      <td>0</td>\n",
       "      <td>Graduate</td>\n",
       "      <td>No</td>\n",
       "      <td>5720</td>\n",
       "      <td>0</td>\n",
       "      <td>110.0</td>\n",
       "      <td>360.0</td>\n",
       "      <td>1.0</td>\n",
       "      <td>Urban</td>\n",
       "    </tr>\n",
       "    <tr>\n",
       "      <th>1</th>\n",
       "      <td>LP001022</td>\n",
       "      <td>Male</td>\n",
       "      <td>Yes</td>\n",
       "      <td>1</td>\n",
       "      <td>Graduate</td>\n",
       "      <td>No</td>\n",
       "      <td>3076</td>\n",
       "      <td>1500</td>\n",
       "      <td>126.0</td>\n",
       "      <td>360.0</td>\n",
       "      <td>1.0</td>\n",
       "      <td>Urban</td>\n",
       "    </tr>\n",
       "    <tr>\n",
       "      <th>2</th>\n",
       "      <td>LP001031</td>\n",
       "      <td>Male</td>\n",
       "      <td>Yes</td>\n",
       "      <td>2</td>\n",
       "      <td>Graduate</td>\n",
       "      <td>No</td>\n",
       "      <td>5000</td>\n",
       "      <td>1800</td>\n",
       "      <td>208.0</td>\n",
       "      <td>360.0</td>\n",
       "      <td>1.0</td>\n",
       "      <td>Urban</td>\n",
       "    </tr>\n",
       "    <tr>\n",
       "      <th>3</th>\n",
       "      <td>LP001035</td>\n",
       "      <td>Male</td>\n",
       "      <td>Yes</td>\n",
       "      <td>2</td>\n",
       "      <td>Graduate</td>\n",
       "      <td>No</td>\n",
       "      <td>2340</td>\n",
       "      <td>2546</td>\n",
       "      <td>100.0</td>\n",
       "      <td>360.0</td>\n",
       "      <td>NaN</td>\n",
       "      <td>Urban</td>\n",
       "    </tr>\n",
       "    <tr>\n",
       "      <th>4</th>\n",
       "      <td>LP001051</td>\n",
       "      <td>Male</td>\n",
       "      <td>No</td>\n",
       "      <td>0</td>\n",
       "      <td>Not Graduate</td>\n",
       "      <td>No</td>\n",
       "      <td>3276</td>\n",
       "      <td>0</td>\n",
       "      <td>78.0</td>\n",
       "      <td>360.0</td>\n",
       "      <td>1.0</td>\n",
       "      <td>Urban</td>\n",
       "    </tr>\n",
       "  </tbody>\n",
       "</table>\n",
       "</div>"
      ],
      "text/plain": [
       "    Loan_ID Gender Married Dependents     Education Self_Employed  \\\n",
       "0  LP001015   Male     Yes          0      Graduate            No   \n",
       "1  LP001022   Male     Yes          1      Graduate            No   \n",
       "2  LP001031   Male     Yes          2      Graduate            No   \n",
       "3  LP001035   Male     Yes          2      Graduate            No   \n",
       "4  LP001051   Male      No          0  Not Graduate            No   \n",
       "\n",
       "   ApplicantIncome  CoapplicantIncome  LoanAmount  Loan_Amount_Term  \\\n",
       "0             5720                  0       110.0             360.0   \n",
       "1             3076               1500       126.0             360.0   \n",
       "2             5000               1800       208.0             360.0   \n",
       "3             2340               2546       100.0             360.0   \n",
       "4             3276                  0        78.0             360.0   \n",
       "\n",
       "   Credit_History Property_Area  \n",
       "0             1.0         Urban  \n",
       "1             1.0         Urban  \n",
       "2             1.0         Urban  \n",
       "3             NaN         Urban  \n",
       "4             1.0         Urban  "
      ]
     },
     "execution_count": 6,
     "metadata": {},
     "output_type": "execute_result"
    }
   ],
   "source": [
    "test.head()"
   ]
  },
  {
   "cell_type": "code",
   "execution_count": 7,
   "id": "7657a8e5",
   "metadata": {},
   "outputs": [
    {
     "name": "stdout",
     "output_type": "stream",
     "text": [
      "<class 'pandas.core.frame.DataFrame'>\n",
      "RangeIndex: 614 entries, 0 to 613\n",
      "Data columns (total 13 columns):\n",
      " #   Column             Non-Null Count  Dtype  \n",
      "---  ------             --------------  -----  \n",
      " 0   Loan_ID            614 non-null    object \n",
      " 1   Gender             601 non-null    object \n",
      " 2   Married            611 non-null    object \n",
      " 3   Dependents         599 non-null    object \n",
      " 4   Education          614 non-null    object \n",
      " 5   Self_Employed      582 non-null    object \n",
      " 6   ApplicantIncome    614 non-null    int64  \n",
      " 7   CoapplicantIncome  614 non-null    float64\n",
      " 8   LoanAmount         592 non-null    float64\n",
      " 9   Loan_Amount_Term   600 non-null    float64\n",
      " 10  Credit_History     564 non-null    float64\n",
      " 11  Property_Area      614 non-null    object \n",
      " 12  Loan_Status        614 non-null    object \n",
      "dtypes: float64(4), int64(1), object(8)\n",
      "memory usage: 62.5+ KB\n"
     ]
    }
   ],
   "source": [
    "# Colomn Information\n",
    "# train.info(verbose=True, null_counts=True) or\n",
    "train.info(verbose=True, show_counts=True)"
   ]
  },
  {
   "cell_type": "code",
   "execution_count": 8,
   "id": "de261f3e",
   "metadata": {},
   "outputs": [
    {
     "data": {
      "text/html": [
       "<div>\n",
       "<style scoped>\n",
       "    .dataframe tbody tr th:only-of-type {\n",
       "        vertical-align: middle;\n",
       "    }\n",
       "\n",
       "    .dataframe tbody tr th {\n",
       "        vertical-align: top;\n",
       "    }\n",
       "\n",
       "    .dataframe thead th {\n",
       "        text-align: right;\n",
       "    }\n",
       "</style>\n",
       "<table border=\"1\" class=\"dataframe\">\n",
       "  <thead>\n",
       "    <tr style=\"text-align: right;\">\n",
       "      <th></th>\n",
       "      <th>ApplicantIncome</th>\n",
       "      <th>CoapplicantIncome</th>\n",
       "      <th>LoanAmount</th>\n",
       "      <th>Loan_Amount_Term</th>\n",
       "      <th>Credit_History</th>\n",
       "    </tr>\n",
       "  </thead>\n",
       "  <tbody>\n",
       "    <tr>\n",
       "      <th>count</th>\n",
       "      <td>614.000000</td>\n",
       "      <td>614.000000</td>\n",
       "      <td>592.000000</td>\n",
       "      <td>600.00000</td>\n",
       "      <td>564.000000</td>\n",
       "    </tr>\n",
       "    <tr>\n",
       "      <th>mean</th>\n",
       "      <td>5403.459283</td>\n",
       "      <td>1621.245798</td>\n",
       "      <td>146.412162</td>\n",
       "      <td>342.00000</td>\n",
       "      <td>0.842199</td>\n",
       "    </tr>\n",
       "    <tr>\n",
       "      <th>std</th>\n",
       "      <td>6109.041673</td>\n",
       "      <td>2926.248369</td>\n",
       "      <td>85.587325</td>\n",
       "      <td>65.12041</td>\n",
       "      <td>0.364878</td>\n",
       "    </tr>\n",
       "    <tr>\n",
       "      <th>min</th>\n",
       "      <td>150.000000</td>\n",
       "      <td>0.000000</td>\n",
       "      <td>9.000000</td>\n",
       "      <td>12.00000</td>\n",
       "      <td>0.000000</td>\n",
       "    </tr>\n",
       "    <tr>\n",
       "      <th>25%</th>\n",
       "      <td>2877.500000</td>\n",
       "      <td>0.000000</td>\n",
       "      <td>100.000000</td>\n",
       "      <td>360.00000</td>\n",
       "      <td>1.000000</td>\n",
       "    </tr>\n",
       "    <tr>\n",
       "      <th>50%</th>\n",
       "      <td>3812.500000</td>\n",
       "      <td>1188.500000</td>\n",
       "      <td>128.000000</td>\n",
       "      <td>360.00000</td>\n",
       "      <td>1.000000</td>\n",
       "    </tr>\n",
       "    <tr>\n",
       "      <th>75%</th>\n",
       "      <td>5795.000000</td>\n",
       "      <td>2297.250000</td>\n",
       "      <td>168.000000</td>\n",
       "      <td>360.00000</td>\n",
       "      <td>1.000000</td>\n",
       "    </tr>\n",
       "    <tr>\n",
       "      <th>max</th>\n",
       "      <td>81000.000000</td>\n",
       "      <td>41667.000000</td>\n",
       "      <td>700.000000</td>\n",
       "      <td>480.00000</td>\n",
       "      <td>1.000000</td>\n",
       "    </tr>\n",
       "  </tbody>\n",
       "</table>\n",
       "</div>"
      ],
      "text/plain": [
       "       ApplicantIncome  CoapplicantIncome  LoanAmount  Loan_Amount_Term  \\\n",
       "count       614.000000         614.000000  592.000000         600.00000   \n",
       "mean       5403.459283        1621.245798  146.412162         342.00000   \n",
       "std        6109.041673        2926.248369   85.587325          65.12041   \n",
       "min         150.000000           0.000000    9.000000          12.00000   \n",
       "25%        2877.500000           0.000000  100.000000         360.00000   \n",
       "50%        3812.500000        1188.500000  128.000000         360.00000   \n",
       "75%        5795.000000        2297.250000  168.000000         360.00000   \n",
       "max       81000.000000       41667.000000  700.000000         480.00000   \n",
       "\n",
       "       Credit_History  \n",
       "count      564.000000  \n",
       "mean         0.842199  \n",
       "std          0.364878  \n",
       "min          0.000000  \n",
       "25%          1.000000  \n",
       "50%          1.000000  \n",
       "75%          1.000000  \n",
       "max          1.000000  "
      ]
     },
     "execution_count": 8,
     "metadata": {},
     "output_type": "execute_result"
    }
   ],
   "source": [
    "# Summary Statistics\n",
    "train.describe()"
   ]
  },
  {
   "cell_type": "code",
   "execution_count": 9,
   "id": "51a9805b",
   "metadata": {},
   "outputs": [
    {
     "name": "stdout",
     "output_type": "stream",
     "text": [
      "train_set (row, col): (614, 12)\n",
      "\n",
      "test_set (row, col):(367, 11)\n"
     ]
    }
   ],
   "source": [
    "# Loan_id coloumn is not needed, Drop it.\n",
    "train.drop('Loan_ID', axis=1, inplace=True)\n",
    "test.drop('Loan_ID', axis=1, inplace=True)\n",
    "\n",
    "# Then, check the new shape\n",
    "print(f\"train_set (row, col): {train.shape}\\n\\ntest_set (row, col):{test.shape}\")"
   ]
  },
  {
   "cell_type": "code",
   "execution_count": 10,
   "id": "36d8711e",
   "metadata": {},
   "outputs": [
    {
     "data": {
      "text/plain": [
       "Credit_History       50\n",
       "Self_Employed        32\n",
       "LoanAmount           22\n",
       "Dependents           15\n",
       "Loan_Amount_Term     14\n",
       "Gender               13\n",
       "Married               3\n",
       "Education             0\n",
       "ApplicantIncome       0\n",
       "CoapplicantIncome     0\n",
       "Property_Area         0\n",
       "Loan_Status           0\n",
       "dtype: int64"
      ]
     },
     "execution_count": 10,
     "metadata": {},
     "output_type": "execute_result"
    }
   ],
   "source": [
    "# We have some missing data.\n",
    "# So, missing data in decending order\n",
    "train.isnull().sum().sort_values(ascending=False)"
   ]
  },
  {
   "cell_type": "code",
   "execution_count": 11,
   "id": "8b7cf11f",
   "metadata": {},
   "outputs": [
    {
     "name": "stdout",
     "output_type": "stream",
     "text": [
      "Before filling missing values\n",
      "\n",
      " ---------------------------------------- \n",
      "\n",
      "Credit_History:\n",
      "1.0    475\n",
      "0.0     89\n",
      "Name: Credit_History, dtype: int64\n",
      " ----------------------------------------\n",
      "Self_Employed:\n",
      "No     500\n",
      "Yes     82\n",
      "Name: Self_Employed, dtype: int64\n",
      " ----------------------------------------\n",
      "LoanAmount:\n",
      "120.0    20\n",
      "110.0    17\n",
      "100.0    15\n",
      "160.0    12\n",
      "187.0    12\n",
      "         ..\n",
      "240.0     1\n",
      "214.0     1\n",
      "59.0      1\n",
      "166.0     1\n",
      "253.0     1\n",
      "Name: LoanAmount, Length: 203, dtype: int64\n",
      " ----------------------------------------\n",
      "Dependents:\n",
      "0     345\n",
      "1     102\n",
      "2     101\n",
      "3+     51\n",
      "Name: Dependents, dtype: int64\n",
      " ----------------------------------------\n",
      "Loan_Amount_Term:\n",
      "360.0    512\n",
      "180.0     44\n",
      "480.0     15\n",
      "300.0     13\n",
      "240.0      4\n",
      "84.0       4\n",
      "120.0      3\n",
      "60.0       2\n",
      "36.0       2\n",
      "12.0       1\n",
      "Name: Loan_Amount_Term, dtype: int64\n",
      " ----------------------------------------\n",
      "Gender:\n",
      "Male      489\n",
      "Female    112\n",
      "Name: Gender, dtype: int64\n",
      " ----------------------------------------\n",
      "Married:\n",
      "Yes    398\n",
      "No     213\n",
      "Name: Married, dtype: int64\n",
      " ----------------------------------------\n",
      "After filling missing values\n",
      "\n",
      " ---------------------------------------- \n",
      "\n",
      "\n",
      "Credit_History:\n",
      "1.0    525\n",
      "0.0     89\n",
      "Name: Credit_History, dtype: int64\n",
      " ----------------------------------------\n",
      "\n",
      "Self_Employed:\n",
      "No     532\n",
      "Yes     82\n",
      "Name: Self_Employed, dtype: int64\n",
      " ----------------------------------------\n",
      "\n",
      "LoanAmount:\n",
      "120.0    42\n",
      "110.0    17\n",
      "100.0    15\n",
      "160.0    12\n",
      "187.0    12\n",
      "         ..\n",
      "240.0     1\n",
      "214.0     1\n",
      "59.0      1\n",
      "166.0     1\n",
      "253.0     1\n",
      "Name: LoanAmount, Length: 203, dtype: int64\n",
      " ----------------------------------------\n",
      "\n",
      "Dependents:\n",
      "0     360\n",
      "1     102\n",
      "2     101\n",
      "3+     51\n",
      "Name: Dependents, dtype: int64\n",
      " ----------------------------------------\n",
      "\n",
      "Loan_Amount_Term:\n",
      "360.0    526\n",
      "180.0     44\n",
      "480.0     15\n",
      "300.0     13\n",
      "240.0      4\n",
      "84.0       4\n",
      "120.0      3\n",
      "60.0       2\n",
      "36.0       2\n",
      "12.0       1\n",
      "Name: Loan_Amount_Term, dtype: int64\n",
      " ----------------------------------------\n",
      "\n",
      "Gender:\n",
      "Male      502\n",
      "Female    112\n",
      "Name: Gender, dtype: int64\n",
      " ----------------------------------------\n",
      "\n",
      "Married:\n",
      "Yes    401\n",
      "No     213\n",
      "Name: Married, dtype: int64\n",
      " ----------------------------------------\n"
     ]
    }
   ],
   "source": [
    "# Filling the missing data.\n",
    "print('Before filling missing values\\n\\n', '-'*40, '\\n')\n",
    "null_cols = ['Credit_History', 'Self_Employed', 'LoanAmount', 'Dependents', 'Loan_Amount_Term','Gender','Married']\n",
    "\n",
    "\n",
    "for col in null_cols:\n",
    "    print(f\"{col}:\\n{train[col].value_counts()}\\n\",\"-\"*40)\n",
    "    train[col] = train[col].fillna(\n",
    "    train[col].dropna().mode().values[0] ) \n",
    "    \n",
    "\n",
    "train.isnull().sum().sort_values(ascending=False)\n",
    "print(\"After filling missing values\\n\\n\",\"-\"*40,\"\\n\")\n",
    "for col in null_cols:\n",
    "    print(f\"\\n{col}:\\n{train[col].value_counts()}\\n\",\"-\"*40)   "
   ]
  },
  {
   "cell_type": "markdown",
   "id": "0477af51",
   "metadata": {},
   "source": [
    "# Data Visuvalization"
   ]
  },
  {
   "cell_type": "markdown",
   "id": "61ca1c58",
   "metadata": {},
   "source": [
    "Firstly we need to split our data to categorical and numerical data,\n",
    "\n",
    "using the .select_dtypes('dtype').columns.to_list() combination."
   ]
  },
  {
   "cell_type": "code",
   "execution_count": 12,
   "id": "6a7ce1e4",
   "metadata": {},
   "outputs": [],
   "source": [
    "# List of all colomns.colomns\n",
    "# Cols = train.tolist()\n",
    "# List all numeric colomns\n",
    "num = train.select_dtypes('number').columns.to_list()\n",
    "\n",
    "#List all categoric colomns\n",
    "cat = train.select_dtypes('object').columns.to_list()\n",
    "\n",
    "\n",
    "# numeric dataframe\n",
    "loan_num = train[num]\n",
    "# categoric dataframe\n",
    "loan_cat = train[cat]"
   ]
  },
  {
   "cell_type": "code",
   "execution_count": 13,
   "id": "f735d80a",
   "metadata": {},
   "outputs": [
    {
     "name": "stdout",
     "output_type": "stream",
     "text": [
      "Y    422\n",
      "N    192\n",
      "Name: Loan_Status, dtype: int64\n"
     ]
    },
    {
     "data": {
      "image/png": "[encoded data removed]",
      "text/plain": [
       "<Figure size 576x720 with 1 Axes>"
      ]
     },
     "metadata": {
      "needs_background": "light"
     },
     "output_type": "display_data"
    }
   ],
   "source": [
    "# train[cat[-1]].hist(grid=False)\n",
    "print(train[cat[-1]].value_counts())\n",
    "\n",
    "# print(i)\n",
    "total = float(len(train[cat[-1]]))\n",
    "plt.figure(figsize=(8,10))\n",
    "sns.set(style='whitegrid')\n",
    "ax = sns.countplot(train[cat[-1]])\n",
    "for p in ax.patches:\n",
    "    height = p.get_height()\n",
    "    ax.text(p.get_x()+p.get_width()/2.,height + 3,'{:1.2f}'.format(height/total),ha=\"center\") \n",
    "plt.show()"
   ]
  },
  {
   "cell_type": "code",
   "execution_count": 14,
   "id": "0bc26358",
   "metadata": {},
   "outputs": [
    {
     "data": {
      "image/png": "[encoded data removed]",
      "text/plain": [
       "<Figure size 432x288 with 1 Axes>"
      ]
     },
     "metadata": {},
     "output_type": "display_data"
    },
    {
     "data": {
      "image/png": "[encoded data removed]",
      "text/plain": [
       "<Figure size 432x288 with 1 Axes>"
      ]
     },
     "metadata": {},
     "output_type": "display_data"
    },
    {
     "data": {
      "image/png": "[encoded data removed]",
      "text/plain": [
       "<Figure size 432x288 with 1 Axes>"
      ]
     },
     "metadata": {},
     "output_type": "display_data"
    },
    {
     "data": {
      "image/png": "[encoded data removed]",
      "text/plain": [
       "<Figure size 432x288 with 1 Axes>"
      ]
     },
     "metadata": {},
     "output_type": "display_data"
    },
    {
     "data": {
      "image/png": "[encoded data removed]",
      "text/plain": [
       "<Figure size 432x288 with 1 Axes>"
      ]
     },
     "metadata": {},
     "output_type": "display_data"
    }
   ],
   "source": [
    "for i in loan_num:\n",
    "    plt.hist(loan_num[i])\n",
    "    plt.title(i)\n",
    "    plt.show()"
   ]
  },
  {
   "cell_type": "code",
   "execution_count": 15,
   "id": "afb45188",
   "metadata": {},
   "outputs": [
    {
     "data": {
      "image/png": "[encoded data removed]",
      "text/plain": [
       "<Figure size 1080x720 with 1 Axes>"
      ]
     },
     "metadata": {},
     "output_type": "display_data"
    },
    {
     "data": {
      "image/png": "[encoded data removed]",
      "text/plain": [
       "<Figure size 1080x720 with 1 Axes>"
      ]
     },
     "metadata": {},
     "output_type": "display_data"
    },
    {
     "data": {
      "image/png": "[encoded data removed]",
      "text/plain": [
       "<Figure size 1080x720 with 1 Axes>"
      ]
     },
     "metadata": {},
     "output_type": "display_data"
    },
    {
     "data": {
      "image/png": "[encoded data removed]",
      "text/plain": [
       "<Figure size 1080x720 with 1 Axes>"
      ]
     },
     "metadata": {},
     "output_type": "display_data"
    },
    {
     "data": {
      "image/png": "[encoded data removed]",
      "text/plain": [
       "<Figure size 1080x720 with 1 Axes>"
      ]
     },
     "metadata": {},
     "output_type": "display_data"
    },
    {
     "data": {
      "image/png": "[encoded data removed]",
      "text/plain": [
       "<Figure size 1080x720 with 1 Axes>"
      ]
     },
     "metadata": {},
     "output_type": "display_data"
    }
   ],
   "source": [
    "for i in cat[:-1]: \n",
    "    plt.figure(figsize=(15,10))\n",
    "    plt.subplot(2,3,1)\n",
    "    sns.countplot(x=i ,hue='Loan_Status', data=train ,palette='plasma')\n",
    "    plt.xlabel(i, fontsize=14)"
   ]
  },
  {
   "cell_type": "code",
   "execution_count": 16,
   "id": "45828af6",
   "metadata": {},
   "outputs": [
    {
     "name": "stdout",
     "output_type": "stream",
     "text": [
      "training set (row, col): (614, 12)\n",
      "\n",
      "testing set (row, col): (367, 11)\n",
      "\n",
      "<class 'pandas.core.frame.DataFrame'>\n",
      "RangeIndex: 614 entries, 0 to 613\n",
      "Data columns (total 12 columns):\n",
      " #   Column             Non-Null Count  Dtype  \n",
      "---  ------             --------------  -----  \n",
      " 0   Gender             614 non-null    int64  \n",
      " 1   Married            614 non-null    int64  \n",
      " 2   Education          614 non-null    int64  \n",
      " 3   Self_Employed      614 non-null    int64  \n",
      " 4   ApplicantIncome    614 non-null    int64  \n",
      " 5   CoapplicantIncome  614 non-null    float64\n",
      " 6   LoanAmount         614 non-null    float64\n",
      " 7   Loan_Amount_Term   614 non-null    float64\n",
      " 8   Credit_History     614 non-null    float64\n",
      " 9   Property_Area      614 non-null    int64  \n",
      " 10  Loan_Status        614 non-null    int64  \n",
      " 11  Dependents         614 non-null    int64  \n",
      "dtypes: float64(4), int64(8)\n",
      "memory usage: 57.7 KB\n",
      "<class 'pandas.core.frame.DataFrame'>\n",
      "RangeIndex: 367 entries, 0 to 366\n",
      "Data columns (total 11 columns):\n",
      " #   Column             Non-Null Count  Dtype  \n",
      "---  ------             --------------  -----  \n",
      " 0   Gender             356 non-null    float64\n",
      " 1   Married            367 non-null    int64  \n",
      " 2   Education          367 non-null    int64  \n",
      " 3   Self_Employed      344 non-null    float64\n",
      " 4   ApplicantIncome    367 non-null    int64  \n",
      " 5   CoapplicantIncome  367 non-null    int64  \n",
      " 6   LoanAmount         362 non-null    float64\n",
      " 7   Loan_Amount_Term   361 non-null    float64\n",
      " 8   Credit_History     338 non-null    float64\n",
      " 9   Property_Area      367 non-null    int64  \n",
      " 10  Dependents         357 non-null    float64\n",
      "dtypes: float64(6), int64(5)\n",
      "memory usage: 31.7 KB\n",
      "None \n",
      "\n",
      " None\n"
     ]
    }
   ],
   "source": [
    "#converting categorical values to numbers\n",
    "\n",
    "to_numeric = {'Male': 1, 'Female': 2,\n",
    "'Yes': 1, 'No': 2,\n",
    "'Graduate': 1, 'Not Graduate': 2,\n",
    "'Urban': 3, 'Semiurban': 2,'Rural': 1,\n",
    "'Y': 1, 'N': 0,\n",
    "'3+': 3}\n",
    "\n",
    "# adding the new numeric values from the to_numeric variable to both datasets\n",
    "train = train.applymap(lambda lable: to_numeric.get(lable) if lable in to_numeric else lable)\n",
    "test = test.applymap(lambda lable: to_numeric.get(lable) if lable in to_numeric else lable)\n",
    "\n",
    "# convertind the Dependents column\n",
    "Dependents_ = pd.to_numeric(train.Dependents)\n",
    "Dependents__ = pd.to_numeric(test.Dependents)\n",
    "\n",
    "# dropping the previous Dependents column\n",
    "train.drop(['Dependents'], axis = 1, inplace = True)\n",
    "test.drop(['Dependents'], axis = 1, inplace = True)\n",
    "\n",
    "# concatination of the new Dependents column with both datasets\n",
    "train = pd.concat([train, Dependents_], axis = 1)\n",
    "test = pd.concat([test, Dependents__], axis = 1)\n",
    "\n",
    "# checking the our manipulated dataset for validation\n",
    "print(f\"training set (row, col): {train.shape}\\n\\ntesting set (row, col): {test.shape}\\n\")\n",
    "print(train.info(), \"\\n\\n\", test.info())"
   ]
  },
  {
   "cell_type": "markdown",
   "id": "ee6e5c30",
   "metadata": {},
   "source": [
    "# Correlation  Matrix"
   ]
  },
  {
   "cell_type": "code",
   "execution_count": 17,
   "id": "f824fa96",
   "metadata": {},
   "outputs": [
    {
     "data": {
      "text/plain": [
       "<AxesSubplot:>"
      ]
     },
     "execution_count": 17,
     "metadata": {},
     "output_type": "execute_result"
    },
    {
     "data": {
      "image/png": "[encoded data removed]",
      "text/plain": [
       "<Figure size 432x288 with 2 Axes>"
      ]
     },
     "metadata": {},
     "output_type": "display_data"
    }
   ],
   "source": [
    "#plotting the correlation matrix\n",
    "sns.heatmap(train.corr() ,cmap='cubehelix_r')"
   ]
  },
  {
   "cell_type": "code",
   "execution_count": 18,
   "id": "663e4f2d",
   "metadata": {},
   "outputs": [
    {
     "data": {
      "text/html": [
       "<style type=\"text/css\">\n",
       "#T_eedae_row0_col0, #T_eedae_row1_col1, #T_eedae_row2_col2, #T_eedae_row3_col3, #T_eedae_row4_col4, #T_eedae_row5_col5, #T_eedae_row6_col6, #T_eedae_row7_col7, #T_eedae_row8_col8, #T_eedae_row9_col9, #T_eedae_row10_col10, #T_eedae_row11_col11 {\n",
       "  background-color: #b40426;\n",
       "  color: #f1f1f1;\n",
       "}\n",
       "#T_eedae_row0_col1 {\n",
       "  background-color: #e3d9d3;\n",
       "  color: #000000;\n",
       "}\n",
       "#T_eedae_row0_col2, #T_eedae_row2_col0, #T_eedae_row8_col4 {\n",
       "  background-color: #5b7ae5;\n",
       "  color: #f1f1f1;\n",
       "}\n",
       "#T_eedae_row0_col3, #T_eedae_row9_col10 {\n",
       "  background-color: #5d7ce6;\n",
       "  color: #f1f1f1;\n",
       "}\n",
       "#T_eedae_row0_col4, #T_eedae_row8_col9, #T_eedae_row9_col8, #T_eedae_row10_col2, #T_eedae_row10_col7, #T_eedae_row11_col9 {\n",
       "  background-color: #506bda;\n",
       "  color: #f1f1f1;\n",
       "}\n",
       "#T_eedae_row0_col5, #T_eedae_row5_col10, #T_eedae_row11_col8 {\n",
       "  background-color: #4358cb;\n",
       "  color: #f1f1f1;\n",
       "}\n",
       "#T_eedae_row0_col6, #T_eedae_row4_col7, #T_eedae_row4_col8, #T_eedae_row6_col10, #T_eedae_row7_col5, #T_eedae_row10_col5 {\n",
       "  background-color: #4a63d3;\n",
       "  color: #f1f1f1;\n",
       "}\n",
       "#T_eedae_row0_col7 {\n",
       "  background-color: #6e90f2;\n",
       "  color: #f1f1f1;\n",
       "}\n",
       "#T_eedae_row0_col8, #T_eedae_row4_col9, #T_eedae_row11_col3 {\n",
       "  background-color: #4c66d6;\n",
       "  color: #f1f1f1;\n",
       "}\n",
       "#T_eedae_row0_col9, #T_eedae_row4_col0 {\n",
       "  background-color: #5875e1;\n",
       "  color: #f1f1f1;\n",
       "}\n",
       "#T_eedae_row0_col10, #T_eedae_row1_col9, #T_eedae_row3_col8, #T_eedae_row6_col8 {\n",
       "  background-color: #4f69d9;\n",
       "  color: #f1f1f1;\n",
       "}\n",
       "#T_eedae_row0_col11, #T_eedae_row3_col5, #T_eedae_row10_col4, #T_eedae_row10_col6 {\n",
       "  background-color: #5f7fe8;\n",
       "  color: #f1f1f1;\n",
       "}\n",
       "#T_eedae_row1_col0 {\n",
       "  background-color: #d2dbe8;\n",
       "  color: #000000;\n",
       "}\n",
       "#T_eedae_row1_col2 {\n",
       "  background-color: #6485ec;\n",
       "  color: #f1f1f1;\n",
       "}\n",
       "#T_eedae_row1_col3, #T_eedae_row8_col3, #T_eedae_row8_col5, #T_eedae_row9_col4, #T_eedae_row9_col5, #T_eedae_row10_col3 {\n",
       "  background-color: #5e7de7;\n",
       "  color: #f1f1f1;\n",
       "}\n",
       "#T_eedae_row1_col4, #T_eedae_row5_col0 {\n",
       "  background-color: #516ddb;\n",
       "  color: #f1f1f1;\n",
       "}\n",
       "#T_eedae_row1_col5 {\n",
       "  background-color: #455cce;\n",
       "  color: #f1f1f1;\n",
       "}\n",
       "#T_eedae_row1_col6, #T_eedae_row5_col4 {\n",
       "  background-color: #4055c8;\n",
       "  color: #f1f1f1;\n",
       "}\n",
       "#T_eedae_row1_col7 {\n",
       "  background-color: #7699f6;\n",
       "  color: #f1f1f1;\n",
       "}\n",
       "#T_eedae_row1_col8, #T_eedae_row6_col0 {\n",
       "  background-color: #4b64d5;\n",
       "  color: #f1f1f1;\n",
       "}\n",
       "#T_eedae_row1_col10, #T_eedae_row1_col11, #T_eedae_row2_col4, #T_eedae_row2_col6, #T_eedae_row2_col8, #T_eedae_row4_col3, #T_eedae_row4_col5, #T_eedae_row6_col2, #T_eedae_row7_col9, #T_eedae_row11_col0, #T_eedae_row11_col1, #T_eedae_row11_col7 {\n",
       "  background-color: #3b4cc0;\n",
       "  color: #f1f1f1;\n",
       "}\n",
       "#T_eedae_row2_col1 {\n",
       "  background-color: #89acfd;\n",
       "  color: #000000;\n",
       "}\n",
       "#T_eedae_row2_col3, #T_eedae_row3_col7 {\n",
       "  background-color: #6180e9;\n",
       "  color: #f1f1f1;\n",
       "}\n",
       "#T_eedae_row2_col5 {\n",
       "  background-color: #4961d2;\n",
       "  color: #f1f1f1;\n",
       "}\n",
       "#T_eedae_row2_col7, #T_eedae_row4_col2, #T_eedae_row6_col9, #T_eedae_row9_col7 {\n",
       "  background-color: #4257c9;\n",
       "  color: #f1f1f1;\n",
       "}\n",
       "#T_eedae_row2_col9, #T_eedae_row6_col3 {\n",
       "  background-color: #3d50c3;\n",
       "  color: #f1f1f1;\n",
       "}\n",
       "#T_eedae_row2_col10 {\n",
       "  background-color: #3c4ec2;\n",
       "  color: #f1f1f1;\n",
       "}\n",
       "#T_eedae_row2_col11 {\n",
       "  background-color: #9bbcff;\n",
       "  color: #000000;\n",
       "}\n",
       "#T_eedae_row3_col0, #T_eedae_row8_col6 {\n",
       "  background-color: #688aef;\n",
       "  color: #f1f1f1;\n",
       "}\n",
       "#T_eedae_row3_col1, #T_eedae_row9_col11 {\n",
       "  background-color: #8db0fe;\n",
       "  color: #000000;\n",
       "}\n",
       "#T_eedae_row3_col2 {\n",
       "  background-color: #6b8df0;\n",
       "  color: #f1f1f1;\n",
       "}\n",
       "#T_eedae_row3_col4 {\n",
       "  background-color: #3e51c5;\n",
       "  color: #f1f1f1;\n",
       "}\n",
       "#T_eedae_row3_col6 {\n",
       "  background-color: #485fd1;\n",
       "  color: #f1f1f1;\n",
       "}\n",
       "#T_eedae_row3_col9, #T_eedae_row10_col9 {\n",
       "  background-color: #5977e3;\n",
       "  color: #f1f1f1;\n",
       "}\n",
       "#T_eedae_row3_col10, #T_eedae_row8_col7, #T_eedae_row9_col2 {\n",
       "  background-color: #5572df;\n",
       "  color: #f1f1f1;\n",
       "}\n",
       "#T_eedae_row3_col11, #T_eedae_row7_col0 {\n",
       "  background-color: #7ea1fa;\n",
       "  color: #f1f1f1;\n",
       "}\n",
       "#T_eedae_row4_col1 {\n",
       "  background-color: #80a3fa;\n",
       "  color: #f1f1f1;\n",
       "}\n",
       "#T_eedae_row4_col6 {\n",
       "  background-color: #f5c4ac;\n",
       "  color: #000000;\n",
       "}\n",
       "#T_eedae_row4_col10, #T_eedae_row5_col8, #T_eedae_row5_col9, #T_eedae_row7_col2, #T_eedae_row8_col2 {\n",
       "  background-color: #536edd;\n",
       "  color: #f1f1f1;\n",
       "}\n",
       "#T_eedae_row4_col11 {\n",
       "  background-color: #abc8fd;\n",
       "  color: #000000;\n",
       "}\n",
       "#T_eedae_row5_col1, #T_eedae_row11_col2 {\n",
       "  background-color: #799cf8;\n",
       "  color: #f1f1f1;\n",
       "}\n",
       "#T_eedae_row5_col2, #T_eedae_row11_col10 {\n",
       "  background-color: #5673e0;\n",
       "  color: #f1f1f1;\n",
       "}\n",
       "#T_eedae_row5_col3, #T_eedae_row6_col7 {\n",
       "  background-color: #6282ea;\n",
       "  color: #f1f1f1;\n",
       "}\n",
       "#T_eedae_row5_col6 {\n",
       "  background-color: #a1c0ff;\n",
       "  color: #000000;\n",
       "}\n",
       "#T_eedae_row5_col7 {\n",
       "  background-color: #465ecf;\n",
       "  color: #f1f1f1;\n",
       "}\n",
       "#T_eedae_row5_col11 {\n",
       "  background-color: #94b6ff;\n",
       "  color: #000000;\n",
       "}\n",
       "#T_eedae_row6_col1, #T_eedae_row7_col3 {\n",
       "  background-color: #6788ee;\n",
       "  color: #f1f1f1;\n",
       "}\n",
       "#T_eedae_row6_col4 {\n",
       "  background-color: #f4c6af;\n",
       "  color: #000000;\n",
       "}\n",
       "#T_eedae_row6_col5 {\n",
       "  background-color: #96b7ff;\n",
       "  color: #000000;\n",
       "}\n",
       "#T_eedae_row6_col11 {\n",
       "  background-color: #b7cff9;\n",
       "  color: #000000;\n",
       "}\n",
       "#T_eedae_row7_col1 {\n",
       "  background-color: #a7c5fe;\n",
       "  color: #000000;\n",
       "}\n",
       "#T_eedae_row7_col4 {\n",
       "  background-color: #5470de;\n",
       "  color: #f1f1f1;\n",
       "}\n",
       "#T_eedae_row7_col6 {\n",
       "  background-color: #7396f5;\n",
       "  color: #f1f1f1;\n",
       "}\n",
       "#T_eedae_row7_col8, #T_eedae_row7_col10 {\n",
       "  background-color: #4e68d8;\n",
       "  color: #f1f1f1;\n",
       "}\n",
       "#T_eedae_row7_col11 {\n",
       "  background-color: #7295f4;\n",
       "  color: #f1f1f1;\n",
       "}\n",
       "#T_eedae_row8_col0, #T_eedae_row9_col3 {\n",
       "  background-color: #6687ed;\n",
       "  color: #f1f1f1;\n",
       "}\n",
       "#T_eedae_row8_col1 {\n",
       "  background-color: #8badfd;\n",
       "  color: #000000;\n",
       "}\n",
       "#T_eedae_row8_col10 {\n",
       "  background-color: #efcfbf;\n",
       "  color: #000000;\n",
       "}\n",
       "#T_eedae_row8_col11 {\n",
       "  background-color: #82a6fb;\n",
       "  color: #f1f1f1;\n",
       "}\n",
       "#T_eedae_row9_col0 {\n",
       "  background-color: #7093f3;\n",
       "  color: #f1f1f1;\n",
       "}\n",
       "#T_eedae_row9_col1 {\n",
       "  background-color: #8caffe;\n",
       "  color: #000000;\n",
       "}\n",
       "#T_eedae_row9_col6 {\n",
       "  background-color: #5a78e4;\n",
       "  color: #f1f1f1;\n",
       "}\n",
       "#T_eedae_row10_col0, #T_eedae_row11_col5 {\n",
       "  background-color: #6384eb;\n",
       "  color: #f1f1f1;\n",
       "}\n",
       "#T_eedae_row10_col1 {\n",
       "  background-color: #7597f6;\n",
       "  color: #f1f1f1;\n",
       "}\n",
       "#T_eedae_row10_col8 {\n",
       "  background-color: #edd1c2;\n",
       "  color: #000000;\n",
       "}\n",
       "#T_eedae_row10_col11 {\n",
       "  background-color: #90b2fe;\n",
       "  color: #000000;\n",
       "}\n",
       "#T_eedae_row11_col4 {\n",
       "  background-color: #85a8fc;\n",
       "  color: #f1f1f1;\n",
       "}\n",
       "#T_eedae_row11_col6 {\n",
       "  background-color: #98b9ff;\n",
       "  color: #000000;\n",
       "}\n",
       "</style>\n",
       "<table id=\"T_eedae\">\n",
       "  <thead>\n",
       "    <tr>\n",
       "      <th class=\"blank level0\" >&nbsp;</th>\n",
       "      <th id=\"T_eedae_level0_col0\" class=\"col_heading level0 col0\" >Gender</th>\n",
       "      <th id=\"T_eedae_level0_col1\" class=\"col_heading level0 col1\" >Married</th>\n",
       "      <th id=\"T_eedae_level0_col2\" class=\"col_heading level0 col2\" >Education</th>\n",
       "      <th id=\"T_eedae_level0_col3\" class=\"col_heading level0 col3\" >Self_Employed</th>\n",
       "      <th id=\"T_eedae_level0_col4\" class=\"col_heading level0 col4\" >ApplicantIncome</th>\n",
       "      <th id=\"T_eedae_level0_col5\" class=\"col_heading level0 col5\" >CoapplicantIncome</th>\n",
       "      <th id=\"T_eedae_level0_col6\" class=\"col_heading level0 col6\" >LoanAmount</th>\n",
       "      <th id=\"T_eedae_level0_col7\" class=\"col_heading level0 col7\" >Loan_Amount_Term</th>\n",
       "      <th id=\"T_eedae_level0_col8\" class=\"col_heading level0 col8\" >Credit_History</th>\n",
       "      <th id=\"T_eedae_level0_col9\" class=\"col_heading level0 col9\" >Property_Area</th>\n",
       "      <th id=\"T_eedae_level0_col10\" class=\"col_heading level0 col10\" >Loan_Status</th>\n",
       "      <th id=\"T_eedae_level0_col11\" class=\"col_heading level0 col11\" >Dependents</th>\n",
       "    </tr>\n",
       "  </thead>\n",
       "  <tbody>\n",
       "    <tr>\n",
       "      <th id=\"T_eedae_level0_row0\" class=\"row_heading level0 row0\" >Gender</th>\n",
       "      <td id=\"T_eedae_row0_col0\" class=\"data row0 col0\" >1.00</td>\n",
       "      <td id=\"T_eedae_row0_col1\" class=\"data row0 col1\" >0.36</td>\n",
       "      <td id=\"T_eedae_row0_col2\" class=\"data row0 col2\" >-0.05</td>\n",
       "      <td id=\"T_eedae_row0_col3\" class=\"data row0 col3\" >-0.00</td>\n",
       "      <td id=\"T_eedae_row0_col4\" class=\"data row0 col4\" >-0.06</td>\n",
       "      <td id=\"T_eedae_row0_col5\" class=\"data row0 col5\" >-0.08</td>\n",
       "      <td id=\"T_eedae_row0_col6\" class=\"data row0 col6\" >-0.11</td>\n",
       "      <td id=\"T_eedae_row0_col7\" class=\"data row0 col7\" >0.07</td>\n",
       "      <td id=\"T_eedae_row0_col8\" class=\"data row0 col8\" >-0.01</td>\n",
       "      <td id=\"T_eedae_row0_col9\" class=\"data row0 col9\" >0.03</td>\n",
       "      <td id=\"T_eedae_row0_col10\" class=\"data row0 col10\" >-0.02</td>\n",
       "      <td id=\"T_eedae_row0_col11\" class=\"data row0 col11\" >-0.17</td>\n",
       "    </tr>\n",
       "    <tr>\n",
       "      <th id=\"T_eedae_level0_row1\" class=\"row_heading level0 row1\" >Married</th>\n",
       "      <td id=\"T_eedae_row1_col0\" class=\"data row1 col0\" >0.36</td>\n",
       "      <td id=\"T_eedae_row1_col1\" class=\"data row1 col1\" >1.00</td>\n",
       "      <td id=\"T_eedae_row1_col2\" class=\"data row1 col2\" >-0.01</td>\n",
       "      <td id=\"T_eedae_row1_col3\" class=\"data row1 col3\" >0.00</td>\n",
       "      <td id=\"T_eedae_row1_col4\" class=\"data row1 col4\" >-0.05</td>\n",
       "      <td id=\"T_eedae_row1_col5\" class=\"data row1 col5\" >-0.08</td>\n",
       "      <td id=\"T_eedae_row1_col6\" class=\"data row1 col6\" >-0.15</td>\n",
       "      <td id=\"T_eedae_row1_col7\" class=\"data row1 col7\" >0.10</td>\n",
       "      <td id=\"T_eedae_row1_col8\" class=\"data row1 col8\" >-0.01</td>\n",
       "      <td id=\"T_eedae_row1_col9\" class=\"data row1 col9\" >-0.00</td>\n",
       "      <td id=\"T_eedae_row1_col10\" class=\"data row1 col10\" >-0.09</td>\n",
       "      <td id=\"T_eedae_row1_col11\" class=\"data row1 col11\" >-0.33</td>\n",
       "    </tr>\n",
       "    <tr>\n",
       "      <th id=\"T_eedae_level0_row2\" class=\"row_heading level0 row2\" >Education</th>\n",
       "      <td id=\"T_eedae_row2_col0\" class=\"data row2 col0\" >-0.05</td>\n",
       "      <td id=\"T_eedae_row2_col1\" class=\"data row2 col1\" >-0.01</td>\n",
       "      <td id=\"T_eedae_row2_col2\" class=\"data row2 col2\" >1.00</td>\n",
       "      <td id=\"T_eedae_row2_col3\" class=\"data row2 col3\" >0.01</td>\n",
       "      <td id=\"T_eedae_row2_col4\" class=\"data row2 col4\" >-0.14</td>\n",
       "      <td id=\"T_eedae_row2_col5\" class=\"data row2 col5\" >-0.06</td>\n",
       "      <td id=\"T_eedae_row2_col6\" class=\"data row2 col6\" >-0.17</td>\n",
       "      <td id=\"T_eedae_row2_col7\" class=\"data row2 col7\" >-0.07</td>\n",
       "      <td id=\"T_eedae_row2_col8\" class=\"data row2 col8\" >-0.07</td>\n",
       "      <td id=\"T_eedae_row2_col9\" class=\"data row2 col9\" >-0.07</td>\n",
       "      <td id=\"T_eedae_row2_col10\" class=\"data row2 col10\" >-0.09</td>\n",
       "      <td id=\"T_eedae_row2_col11\" class=\"data row2 col11\" >0.06</td>\n",
       "    </tr>\n",
       "    <tr>\n",
       "      <th id=\"T_eedae_level0_row3\" class=\"row_heading level0 row3\" >Self_Employed</th>\n",
       "      <td id=\"T_eedae_row3_col0\" class=\"data row3 col0\" >-0.00</td>\n",
       "      <td id=\"T_eedae_row3_col1\" class=\"data row3 col1\" >0.00</td>\n",
       "      <td id=\"T_eedae_row3_col2\" class=\"data row3 col2\" >0.01</td>\n",
       "      <td id=\"T_eedae_row3_col3\" class=\"data row3 col3\" >1.00</td>\n",
       "      <td id=\"T_eedae_row3_col4\" class=\"data row3 col4\" >-0.13</td>\n",
       "      <td id=\"T_eedae_row3_col5\" class=\"data row3 col5\" >0.02</td>\n",
       "      <td id=\"T_eedae_row3_col6\" class=\"data row3 col6\" >-0.11</td>\n",
       "      <td id=\"T_eedae_row3_col7\" class=\"data row3 col7\" >0.03</td>\n",
       "      <td id=\"T_eedae_row3_col8\" class=\"data row3 col8\" >0.00</td>\n",
       "      <td id=\"T_eedae_row3_col9\" class=\"data row3 col9\" >0.03</td>\n",
       "      <td id=\"T_eedae_row3_col10\" class=\"data row3 col10\" >0.00</td>\n",
       "      <td id=\"T_eedae_row3_col11\" class=\"data row3 col11\" >-0.06</td>\n",
       "    </tr>\n",
       "    <tr>\n",
       "      <th id=\"T_eedae_level0_row4\" class=\"row_heading level0 row4\" >ApplicantIncome</th>\n",
       "      <td id=\"T_eedae_row4_col0\" class=\"data row4 col0\" >-0.06</td>\n",
       "      <td id=\"T_eedae_row4_col1\" class=\"data row4 col1\" >-0.05</td>\n",
       "      <td id=\"T_eedae_row4_col2\" class=\"data row4 col2\" >-0.14</td>\n",
       "      <td id=\"T_eedae_row4_col3\" class=\"data row4 col3\" >-0.13</td>\n",
       "      <td id=\"T_eedae_row4_col4\" class=\"data row4 col4\" >1.00</td>\n",
       "      <td id=\"T_eedae_row4_col5\" class=\"data row4 col5\" >-0.12</td>\n",
       "      <td id=\"T_eedae_row4_col6\" class=\"data row4 col6\" >0.56</td>\n",
       "      <td id=\"T_eedae_row4_col7\" class=\"data row4 col7\" >-0.05</td>\n",
       "      <td id=\"T_eedae_row4_col8\" class=\"data row4 col8\" >-0.02</td>\n",
       "      <td id=\"T_eedae_row4_col9\" class=\"data row4 col9\" >-0.01</td>\n",
       "      <td id=\"T_eedae_row4_col10\" class=\"data row4 col10\" >-0.00</td>\n",
       "      <td id=\"T_eedae_row4_col11\" class=\"data row4 col11\" >0.12</td>\n",
       "    </tr>\n",
       "    <tr>\n",
       "      <th id=\"T_eedae_level0_row5\" class=\"row_heading level0 row5\" >CoapplicantIncome</th>\n",
       "      <td id=\"T_eedae_row5_col0\" class=\"data row5 col0\" >-0.08</td>\n",
       "      <td id=\"T_eedae_row5_col1\" class=\"data row5 col1\" >-0.08</td>\n",
       "      <td id=\"T_eedae_row5_col2\" class=\"data row5 col2\" >-0.06</td>\n",
       "      <td id=\"T_eedae_row5_col3\" class=\"data row5 col3\" >0.02</td>\n",
       "      <td id=\"T_eedae_row5_col4\" class=\"data row5 col4\" >-0.12</td>\n",
       "      <td id=\"T_eedae_row5_col5\" class=\"data row5 col5\" >1.00</td>\n",
       "      <td id=\"T_eedae_row5_col6\" class=\"data row5 col6\" >0.19</td>\n",
       "      <td id=\"T_eedae_row5_col7\" class=\"data row5 col7\" >-0.06</td>\n",
       "      <td id=\"T_eedae_row5_col8\" class=\"data row5 col8\" >0.01</td>\n",
       "      <td id=\"T_eedae_row5_col9\" class=\"data row5 col9\" >0.01</td>\n",
       "      <td id=\"T_eedae_row5_col10\" class=\"data row5 col10\" >-0.06</td>\n",
       "      <td id=\"T_eedae_row5_col11\" class=\"data row5 col11\" >0.03</td>\n",
       "    </tr>\n",
       "    <tr>\n",
       "      <th id=\"T_eedae_level0_row6\" class=\"row_heading level0 row6\" >LoanAmount</th>\n",
       "      <td id=\"T_eedae_row6_col0\" class=\"data row6 col0\" >-0.11</td>\n",
       "      <td id=\"T_eedae_row6_col1\" class=\"data row6 col1\" >-0.15</td>\n",
       "      <td id=\"T_eedae_row6_col2\" class=\"data row6 col2\" >-0.17</td>\n",
       "      <td id=\"T_eedae_row6_col3\" class=\"data row6 col3\" >-0.11</td>\n",
       "      <td id=\"T_eedae_row6_col4\" class=\"data row6 col4\" >0.56</td>\n",
       "      <td id=\"T_eedae_row6_col5\" class=\"data row6 col5\" >0.19</td>\n",
       "      <td id=\"T_eedae_row6_col6\" class=\"data row6 col6\" >1.00</td>\n",
       "      <td id=\"T_eedae_row6_col7\" class=\"data row6 col7\" >0.04</td>\n",
       "      <td id=\"T_eedae_row6_col8\" class=\"data row6 col8\" >-0.00</td>\n",
       "      <td id=\"T_eedae_row6_col9\" class=\"data row6 col9\" >-0.05</td>\n",
       "      <td id=\"T_eedae_row6_col10\" class=\"data row6 col10\" >-0.03</td>\n",
       "      <td id=\"T_eedae_row6_col11\" class=\"data row6 col11\" >0.16</td>\n",
       "    </tr>\n",
       "    <tr>\n",
       "      <th id=\"T_eedae_level0_row7\" class=\"row_heading level0 row7\" >Loan_Amount_Term</th>\n",
       "      <td id=\"T_eedae_row7_col0\" class=\"data row7 col0\" >0.07</td>\n",
       "      <td id=\"T_eedae_row7_col1\" class=\"data row7 col1\" >0.10</td>\n",
       "      <td id=\"T_eedae_row7_col2\" class=\"data row7 col2\" >-0.07</td>\n",
       "      <td id=\"T_eedae_row7_col3\" class=\"data row7 col3\" >0.03</td>\n",
       "      <td id=\"T_eedae_row7_col4\" class=\"data row7 col4\" >-0.05</td>\n",
       "      <td id=\"T_eedae_row7_col5\" class=\"data row7 col5\" >-0.06</td>\n",
       "      <td id=\"T_eedae_row7_col6\" class=\"data row7 col6\" >0.04</td>\n",
       "      <td id=\"T_eedae_row7_col7\" class=\"data row7 col7\" >1.00</td>\n",
       "      <td id=\"T_eedae_row7_col8\" class=\"data row7 col8\" >-0.00</td>\n",
       "      <td id=\"T_eedae_row7_col9\" class=\"data row7 col9\" >-0.08</td>\n",
       "      <td id=\"T_eedae_row7_col10\" class=\"data row7 col10\" >-0.02</td>\n",
       "      <td id=\"T_eedae_row7_col11\" class=\"data row7 col11\" >-0.10</td>\n",
       "    </tr>\n",
       "    <tr>\n",
       "      <th id=\"T_eedae_level0_row8\" class=\"row_heading level0 row8\" >Credit_History</th>\n",
       "      <td id=\"T_eedae_row8_col0\" class=\"data row8 col0\" >-0.01</td>\n",
       "      <td id=\"T_eedae_row8_col1\" class=\"data row8 col1\" >-0.01</td>\n",
       "      <td id=\"T_eedae_row8_col2\" class=\"data row8 col2\" >-0.07</td>\n",
       "      <td id=\"T_eedae_row8_col3\" class=\"data row8 col3\" >0.00</td>\n",
       "      <td id=\"T_eedae_row8_col4\" class=\"data row8 col4\" >-0.02</td>\n",
       "      <td id=\"T_eedae_row8_col5\" class=\"data row8 col5\" >0.01</td>\n",
       "      <td id=\"T_eedae_row8_col6\" class=\"data row8 col6\" >-0.00</td>\n",
       "      <td id=\"T_eedae_row8_col7\" class=\"data row8 col7\" >-0.00</td>\n",
       "      <td id=\"T_eedae_row8_col8\" class=\"data row8 col8\" >1.00</td>\n",
       "      <td id=\"T_eedae_row8_col9\" class=\"data row8 col9\" >0.00</td>\n",
       "      <td id=\"T_eedae_row8_col10\" class=\"data row8 col10\" >0.54</td>\n",
       "      <td id=\"T_eedae_row8_col11\" class=\"data row8 col11\" >-0.04</td>\n",
       "    </tr>\n",
       "    <tr>\n",
       "      <th id=\"T_eedae_level0_row9\" class=\"row_heading level0 row9\" >Property_Area</th>\n",
       "      <td id=\"T_eedae_row9_col0\" class=\"data row9 col0\" >0.03</td>\n",
       "      <td id=\"T_eedae_row9_col1\" class=\"data row9 col1\" >-0.00</td>\n",
       "      <td id=\"T_eedae_row9_col2\" class=\"data row9 col2\" >-0.07</td>\n",
       "      <td id=\"T_eedae_row9_col3\" class=\"data row9 col3\" >0.03</td>\n",
       "      <td id=\"T_eedae_row9_col4\" class=\"data row9 col4\" >-0.01</td>\n",
       "      <td id=\"T_eedae_row9_col5\" class=\"data row9 col5\" >0.01</td>\n",
       "      <td id=\"T_eedae_row9_col6\" class=\"data row9 col6\" >-0.05</td>\n",
       "      <td id=\"T_eedae_row9_col7\" class=\"data row9 col7\" >-0.08</td>\n",
       "      <td id=\"T_eedae_row9_col8\" class=\"data row9 col8\" >0.00</td>\n",
       "      <td id=\"T_eedae_row9_col9\" class=\"data row9 col9\" >1.00</td>\n",
       "      <td id=\"T_eedae_row9_col10\" class=\"data row9 col10\" >0.03</td>\n",
       "      <td id=\"T_eedae_row9_col11\" class=\"data row9 col11\" >-0.00</td>\n",
       "    </tr>\n",
       "    <tr>\n",
       "      <th id=\"T_eedae_level0_row10\" class=\"row_heading level0 row10\" >Loan_Status</th>\n",
       "      <td id=\"T_eedae_row10_col0\" class=\"data row10 col0\" >-0.02</td>\n",
       "      <td id=\"T_eedae_row10_col1\" class=\"data row10 col1\" >-0.09</td>\n",
       "      <td id=\"T_eedae_row10_col2\" class=\"data row10 col2\" >-0.09</td>\n",
       "      <td id=\"T_eedae_row10_col3\" class=\"data row10 col3\" >0.00</td>\n",
       "      <td id=\"T_eedae_row10_col4\" class=\"data row10 col4\" >-0.00</td>\n",
       "      <td id=\"T_eedae_row10_col5\" class=\"data row10 col5\" >-0.06</td>\n",
       "      <td id=\"T_eedae_row10_col6\" class=\"data row10 col6\" >-0.03</td>\n",
       "      <td id=\"T_eedae_row10_col7\" class=\"data row10 col7\" >-0.02</td>\n",
       "      <td id=\"T_eedae_row10_col8\" class=\"data row10 col8\" >0.54</td>\n",
       "      <td id=\"T_eedae_row10_col9\" class=\"data row10 col9\" >0.03</td>\n",
       "      <td id=\"T_eedae_row10_col10\" class=\"data row10 col10\" >1.00</td>\n",
       "      <td id=\"T_eedae_row10_col11\" class=\"data row10 col11\" >0.01</td>\n",
       "    </tr>\n",
       "    <tr>\n",
       "      <th id=\"T_eedae_level0_row11\" class=\"row_heading level0 row11\" >Dependents</th>\n",
       "      <td id=\"T_eedae_row11_col0\" class=\"data row11 col0\" >-0.17</td>\n",
       "      <td id=\"T_eedae_row11_col1\" class=\"data row11 col1\" >-0.33</td>\n",
       "      <td id=\"T_eedae_row11_col2\" class=\"data row11 col2\" >0.06</td>\n",
       "      <td id=\"T_eedae_row11_col3\" class=\"data row11 col3\" >-0.06</td>\n",
       "      <td id=\"T_eedae_row11_col4\" class=\"data row11 col4\" >0.12</td>\n",
       "      <td id=\"T_eedae_row11_col5\" class=\"data row11 col5\" >0.03</td>\n",
       "      <td id=\"T_eedae_row11_col6\" class=\"data row11 col6\" >0.16</td>\n",
       "      <td id=\"T_eedae_row11_col7\" class=\"data row11 col7\" >-0.10</td>\n",
       "      <td id=\"T_eedae_row11_col8\" class=\"data row11 col8\" >-0.04</td>\n",
       "      <td id=\"T_eedae_row11_col9\" class=\"data row11 col9\" >-0.00</td>\n",
       "      <td id=\"T_eedae_row11_col10\" class=\"data row11 col10\" >0.01</td>\n",
       "      <td id=\"T_eedae_row11_col11\" class=\"data row11 col11\" >1.00</td>\n",
       "    </tr>\n",
       "  </tbody>\n",
       "</table>\n"
      ],
      "text/plain": [
       "<pandas.io.formats.style.Styler at 0x233bc87e640>"
      ]
     },
     "execution_count": 18,
     "metadata": {},
     "output_type": "execute_result"
    }
   ],
   "source": [
    "#correlation table\n",
    "corr = train.corr()\n",
    "corr.style.background_gradient(cmap='coolwarm').set_precision(2)"
   ]
  },
  {
   "cell_type": "markdown",
   "id": "7ee26ee3",
   "metadata": {},
   "source": [
    "We can clearly see that Credit_History has the highest correlation with Loan_Status (a positive correlation of 0.54). Therefore our target value is highly dependant on this column."
   ]
  },
  {
   "cell_type": "markdown",
   "id": "d8672342",
   "metadata": {},
   "source": [
    "# Machine Learning Models"
   ]
  },
  {
   "cell_type": "markdown",
   "id": "cb981663",
   "metadata": {},
   "source": [
    "First of all we will divide our dataset into two variables X as the features we defined earlier and y as the Loan_Status the target value we want to predict."
   ]
  },
  {
   "cell_type": "markdown",
   "id": "5ed6d587",
   "metadata": {},
   "source": [
    "1. KNN\n",
    "\n",
    "2. Decision tree\n",
    "\n",
    "3. SVM\n",
    "\n",
    "4. Logistic Regression"
   ]
  },
  {
   "cell_type": "code",
   "execution_count": 19,
   "id": "a2b2887a",
   "metadata": {},
   "outputs": [
    {
     "data": {
      "text/html": [
       "<div>\n",
       "<style scoped>\n",
       "    .dataframe tbody tr th:only-of-type {\n",
       "        vertical-align: middle;\n",
       "    }\n",
       "\n",
       "    .dataframe tbody tr th {\n",
       "        vertical-align: top;\n",
       "    }\n",
       "\n",
       "    .dataframe thead th {\n",
       "        text-align: right;\n",
       "    }\n",
       "</style>\n",
       "<table border=\"1\" class=\"dataframe\">\n",
       "  <thead>\n",
       "    <tr style=\"text-align: right;\">\n",
       "      <th></th>\n",
       "      <th>Gender</th>\n",
       "      <th>Married</th>\n",
       "      <th>Education</th>\n",
       "      <th>Self_Employed</th>\n",
       "      <th>Dependents</th>\n",
       "    </tr>\n",
       "  </thead>\n",
       "  <tbody>\n",
       "    <tr>\n",
       "      <th>0</th>\n",
       "      <td>1</td>\n",
       "      <td>2</td>\n",
       "      <td>1</td>\n",
       "      <td>2</td>\n",
       "      <td>0</td>\n",
       "    </tr>\n",
       "    <tr>\n",
       "      <th>1</th>\n",
       "      <td>1</td>\n",
       "      <td>1</td>\n",
       "      <td>1</td>\n",
       "      <td>2</td>\n",
       "      <td>1</td>\n",
       "    </tr>\n",
       "    <tr>\n",
       "      <th>2</th>\n",
       "      <td>1</td>\n",
       "      <td>1</td>\n",
       "      <td>1</td>\n",
       "      <td>1</td>\n",
       "      <td>0</td>\n",
       "    </tr>\n",
       "    <tr>\n",
       "      <th>3</th>\n",
       "      <td>1</td>\n",
       "      <td>1</td>\n",
       "      <td>2</td>\n",
       "      <td>2</td>\n",
       "      <td>0</td>\n",
       "    </tr>\n",
       "    <tr>\n",
       "      <th>4</th>\n",
       "      <td>1</td>\n",
       "      <td>2</td>\n",
       "      <td>1</td>\n",
       "      <td>2</td>\n",
       "      <td>0</td>\n",
       "    </tr>\n",
       "  </tbody>\n",
       "</table>\n",
       "</div>"
      ],
      "text/plain": [
       "   Gender  Married  Education  Self_Employed  Dependents\n",
       "0       1        2          1              2           0\n",
       "1       1        1          1              2           1\n",
       "2       1        1          1              1           0\n",
       "3       1        1          2              2           0\n",
       "4       1        2          1              2           0"
      ]
     },
     "execution_count": 19,
     "metadata": {},
     "output_type": "execute_result"
    }
   ],
   "source": [
    "# Create a numpy array for the features we'll be selecting. We use double brackets to create the numpy array, which is required for the scikit learn alogrithms later. \n",
    "features = train[['Gender','Married','Education','Self_Employed','Dependents']]\n",
    "features[0:5]"
   ]
  },
  {
   "cell_type": "code",
   "execution_count": 20,
   "id": "bf589544",
   "metadata": {},
   "outputs": [
    {
     "data": {
      "text/html": [
       "<div>\n",
       "<style scoped>\n",
       "    .dataframe tbody tr th:only-of-type {\n",
       "        vertical-align: middle;\n",
       "    }\n",
       "\n",
       "    .dataframe tbody tr th {\n",
       "        vertical-align: top;\n",
       "    }\n",
       "\n",
       "    .dataframe thead th {\n",
       "        text-align: right;\n",
       "    }\n",
       "</style>\n",
       "<table border=\"1\" class=\"dataframe\">\n",
       "  <thead>\n",
       "    <tr style=\"text-align: right;\">\n",
       "      <th></th>\n",
       "      <th>Gender</th>\n",
       "      <th>Married</th>\n",
       "      <th>Education</th>\n",
       "      <th>Self_Employed</th>\n",
       "      <th>Dependents</th>\n",
       "    </tr>\n",
       "  </thead>\n",
       "  <tbody>\n",
       "    <tr>\n",
       "      <th>0</th>\n",
       "      <td>1</td>\n",
       "      <td>2</td>\n",
       "      <td>1</td>\n",
       "      <td>2</td>\n",
       "      <td>0</td>\n",
       "    </tr>\n",
       "    <tr>\n",
       "      <th>1</th>\n",
       "      <td>1</td>\n",
       "      <td>1</td>\n",
       "      <td>1</td>\n",
       "      <td>2</td>\n",
       "      <td>1</td>\n",
       "    </tr>\n",
       "    <tr>\n",
       "      <th>2</th>\n",
       "      <td>1</td>\n",
       "      <td>1</td>\n",
       "      <td>1</td>\n",
       "      <td>1</td>\n",
       "      <td>0</td>\n",
       "    </tr>\n",
       "    <tr>\n",
       "      <th>3</th>\n",
       "      <td>1</td>\n",
       "      <td>1</td>\n",
       "      <td>2</td>\n",
       "      <td>2</td>\n",
       "      <td>0</td>\n",
       "    </tr>\n",
       "    <tr>\n",
       "      <th>4</th>\n",
       "      <td>1</td>\n",
       "      <td>2</td>\n",
       "      <td>1</td>\n",
       "      <td>2</td>\n",
       "      <td>0</td>\n",
       "    </tr>\n",
       "  </tbody>\n",
       "</table>\n",
       "</div>"
      ],
      "text/plain": [
       "   Gender  Married  Education  Self_Employed  Dependents\n",
       "0       1        2          1              2           0\n",
       "1       1        1          1              2           1\n",
       "2       1        1          1              1           0\n",
       "3       1        1          2              2           0\n",
       "4       1        2          1              2           0"
      ]
     },
     "execution_count": 20,
     "metadata": {},
     "output_type": "execute_result"
    }
   ],
   "source": [
    "X = features\n",
    "X[0:5]"
   ]
  },
  {
   "cell_type": "code",
   "execution_count": 21,
   "id": "35dc9303",
   "metadata": {},
   "outputs": [
    {
     "data": {
      "text/plain": [
       "array([1, 0, 1, 1, 1], dtype=int64)"
      ]
     },
     "execution_count": 21,
     "metadata": {},
     "output_type": "execute_result"
    }
   ],
   "source": [
    "y = train['Loan_Status'].values\n",
    "y[0:5]"
   ]
  },
  {
   "cell_type": "code",
   "execution_count": 22,
   "id": "2c98c071",
   "metadata": {},
   "outputs": [
    {
     "data": {
      "text/plain": [
       "array([[-0.47234264,  1.37208932, -0.52836225,  0.39260074, -0.73780632],\n",
       "       [-0.47234264, -0.72881553, -0.52836225,  0.39260074,  0.25346957],\n",
       "       [-0.47234264, -0.72881553, -0.52836225, -2.54711697, -0.73780632],\n",
       "       [-0.47234264, -0.72881553,  1.89264089,  0.39260074, -0.73780632],\n",
       "       [-0.47234264,  1.37208932, -0.52836225,  0.39260074, -0.73780632]])"
      ]
     },
     "execution_count": 22,
     "metadata": {},
     "output_type": "execute_result"
    }
   ],
   "source": [
    "# Normalize using scikit learn preprocessing libraries StandardScaler, fit, transform. \n",
    "X = preprocessing.StandardScaler().fit(X).transform(X)\n",
    "X[0:5]"
   ]
  },
  {
   "cell_type": "markdown",
   "id": "801559ee",
   "metadata": {},
   "source": [
    "# KNN"
   ]
  },
  {
   "cell_type": "code",
   "execution_count": 23,
   "id": "b6be0cd6",
   "metadata": {},
   "outputs": [
    {
     "name": "stdout",
     "output_type": "stream",
     "text": [
      "Training set: (491, 5) (491,)\n",
      "Test set: (123, 5) (123,)\n"
     ]
    }
   ],
   "source": [
    "# Split into train and test sets \n",
    "X_train, X_test, y_train, y_test = train_test_split(X, y, test_size=0.2, random_state=1)\n",
    "print ('Training set:', X_train.shape,  y_train.shape)\n",
    "print ('Test set:', X_test.shape,  y_test.shape)"
   ]
  },
  {
   "cell_type": "code",
   "execution_count": 24,
   "id": "51813b45",
   "metadata": {},
   "outputs": [
    {
     "name": "stdout",
     "output_type": "stream",
     "text": [
      "Best K is : 13 | Cross validation Accuracy : 0.6628767847699629\n"
     ]
    }
   ],
   "source": [
    "# Determine optimal k value. \n",
    "best_score = 0.0\n",
    "acc_list=[]\n",
    "\n",
    "for k in range(3,15):\n",
    "    \n",
    "    clf_knn = KNeighborsClassifier(n_neighbors = k, algorithm='auto')\n",
    "    \n",
    "    # using 10-fold cross validation for scoring the classifier's accuracy\n",
    "    scores = cross_val_score(clf_knn, X, y, cv=10)\n",
    "    score = scores.mean()\n",
    "    acc_list.append(score)\n",
    "    \n",
    "    if score > best_score:\n",
    "        best_score=score\n",
    "        best_clf = clf_knn\n",
    "        best_k = k\n",
    "        \n",
    "print(\"Best K is :\",best_k,\"| Cross validation Accuracy :\",best_score)\n",
    "clf_knn = best_clf"
   ]
  },
  {
   "cell_type": "code",
   "execution_count": 25,
   "id": "69c8ff26",
   "metadata": {},
   "outputs": [
    {
     "data": {
      "image/png": "[encoded data removed]",
      "text/plain": [
       "<Figure size 432x288 with 1 Axes>"
      ]
     },
     "metadata": {},
     "output_type": "display_data"
    }
   ],
   "source": [
    "# Plot accuracy of various K values. \n",
    "plt.plot(range(3,15),acc_list, c=\"r\")\n",
    "plt.xlabel('K')\n",
    "plt.ylabel('Cross-Validation Accuracy')\n",
    "plt.show()"
   ]
  },
  {
   "cell_type": "code",
   "execution_count": 26,
   "id": "a456a47e",
   "metadata": {},
   "outputs": [
    {
     "data": {
      "text/plain": [
       "KNeighborsClassifier(n_neighbors=13)"
      ]
     },
     "execution_count": 26,
     "metadata": {},
     "output_type": "execute_result"
    }
   ],
   "source": [
    "# Train model using our algorithm above with optimal value of K of 7\n",
    "clf_knn.fit(X_train,y_train)"
   ]
  },
  {
   "cell_type": "code",
   "execution_count": 27,
   "id": "e2c85d72",
   "metadata": {},
   "outputs": [
    {
     "data": {
      "text/plain": [
       "array([1, 1, 0, 1, 1], dtype=int64)"
      ]
     },
     "execution_count": 27,
     "metadata": {},
     "output_type": "execute_result"
    }
   ],
   "source": [
    "# Make predictions on test set using our model\n",
    "y_hat_knn = clf_knn.predict(X_test)\n",
    "y_hat_knn[0:5]"
   ]
  },
  {
   "cell_type": "code",
   "execution_count": 28,
   "id": "4755a132",
   "metadata": {},
   "outputs": [
    {
     "name": "stdout",
     "output_type": "stream",
     "text": [
      "              precision    recall  f1-score   support\n",
      "\n",
      "           0       0.25      0.10      0.15        39\n",
      "           1       0.67      0.86      0.75        84\n",
      "\n",
      "    accuracy                           0.62       123\n",
      "   macro avg       0.46      0.48      0.45       123\n",
      "weighted avg       0.54      0.62      0.56       123\n",
      "\n"
     ]
    }
   ],
   "source": [
    "# Confusion matrix report\n",
    "np.set_printoptions(precision=2)\n",
    "print (classification_report(y_test, y_hat_knn))"
   ]
  },
  {
   "cell_type": "code",
   "execution_count": 29,
   "id": "c16abf5e",
   "metadata": {},
   "outputs": [
    {
     "data": {
      "text/plain": [
       "0.6050420168067226"
      ]
     },
     "execution_count": 29,
     "metadata": {},
     "output_type": "execute_result"
    }
   ],
   "source": [
    "# Jaccard similarity score for KNN model for test set\n",
    "jaccard_knn = jaccard_score(y_test, y_hat_knn)\n",
    "jaccard_knn"
   ]
  },
  {
   "cell_type": "code",
   "execution_count": 30,
   "id": "38f56cc3",
   "metadata": {},
   "outputs": [
    {
     "data": {
      "text/plain": [
       "0.5609965057289792"
      ]
     },
     "execution_count": 30,
     "metadata": {},
     "output_type": "execute_result"
    }
   ],
   "source": [
    "# F1 score for KNN model for test set\n",
    "f1_knn = f1_score(y_test, y_hat_knn, average='weighted')\n",
    "f1_knn"
   ]
  },
  {
   "cell_type": "markdown",
   "id": "966f30b0",
   "metadata": {},
   "source": [
    "# Decision Tree"
   ]
  },
  {
   "cell_type": "code",
   "execution_count": 31,
   "id": "22468952",
   "metadata": {},
   "outputs": [],
   "source": [
    "# Test max depths from 1 to 19\n",
    "depth_range = range(1, 20)\n",
    "\n",
    "# Create empty array for jaccard and f1 scores \n",
    "jaccard_score_ = []\n",
    "f1_score_ = []\n",
    "\n",
    "# Use for loop to train decision tree using increasing max depth values.  \n",
    "# Make predictions using test set, append jaccard and F1 score to arrays created above\n",
    "for d in depth_range:\n",
    "    dec_tree = DecisionTreeClassifier(criterion = 'entropy', max_depth = d)\n",
    "    dec_tree.fit(X_train, y_train)\n",
    "    y_hat_tree = dec_tree.predict(X_test)\n",
    "    jaccard_score_.append(jaccard_score(y_test, y_hat_tree))\n",
    "    f1_score_.append(f1_score(y_test, y_hat_tree, average = 'weighted'))"
   ]
  },
  {
   "cell_type": "code",
   "execution_count": 32,
   "id": "72758f51",
   "metadata": {},
   "outputs": [
    {
     "data": {
      "text/html": [
       "<div>\n",
       "<style scoped>\n",
       "    .dataframe tbody tr th:only-of-type {\n",
       "        vertical-align: middle;\n",
       "    }\n",
       "\n",
       "    .dataframe tbody tr th {\n",
       "        vertical-align: top;\n",
       "    }\n",
       "\n",
       "    .dataframe thead th {\n",
       "        text-align: right;\n",
       "    }\n",
       "</style>\n",
       "<table border=\"1\" class=\"dataframe\">\n",
       "  <thead>\n",
       "    <tr style=\"text-align: right;\">\n",
       "      <th>Evaluation Metrics</th>\n",
       "      <th>d = 1</th>\n",
       "      <th>d = 2</th>\n",
       "      <th>d = 3</th>\n",
       "      <th>d = 4</th>\n",
       "      <th>d = 5</th>\n",
       "      <th>d = 6</th>\n",
       "      <th>d = 7</th>\n",
       "      <th>d = 8</th>\n",
       "      <th>d = 9</th>\n",
       "      <th>d = 10</th>\n",
       "      <th>d = 11</th>\n",
       "      <th>d = 12</th>\n",
       "      <th>d = 13</th>\n",
       "      <th>d = 14</th>\n",
       "      <th>d = 15</th>\n",
       "      <th>d = 16</th>\n",
       "      <th>d = 17</th>\n",
       "      <th>d = 18</th>\n",
       "      <th>d = 19</th>\n",
       "    </tr>\n",
       "  </thead>\n",
       "  <tbody>\n",
       "    <tr>\n",
       "      <th>Jaccard</th>\n",
       "      <td>0.682927</td>\n",
       "      <td>0.682927</td>\n",
       "      <td>0.682927</td>\n",
       "      <td>0.655462</td>\n",
       "      <td>0.647059</td>\n",
       "      <td>0.647059</td>\n",
       "      <td>0.652542</td>\n",
       "      <td>0.652542</td>\n",
       "      <td>0.652542</td>\n",
       "      <td>0.652542</td>\n",
       "      <td>0.652542</td>\n",
       "      <td>0.652542</td>\n",
       "      <td>0.652542</td>\n",
       "      <td>0.652542</td>\n",
       "      <td>0.652542</td>\n",
       "      <td>0.652542</td>\n",
       "      <td>0.652542</td>\n",
       "      <td>0.652542</td>\n",
       "      <td>0.652542</td>\n",
       "    </tr>\n",
       "    <tr>\n",
       "      <th>F1</th>\n",
       "      <td>0.554259</td>\n",
       "      <td>0.554259</td>\n",
       "      <td>0.554259</td>\n",
       "      <td>0.592562</td>\n",
       "      <td>0.587317</td>\n",
       "      <td>0.587317</td>\n",
       "      <td>0.601508</td>\n",
       "      <td>0.601508</td>\n",
       "      <td>0.601508</td>\n",
       "      <td>0.601508</td>\n",
       "      <td>0.601508</td>\n",
       "      <td>0.601508</td>\n",
       "      <td>0.601508</td>\n",
       "      <td>0.601508</td>\n",
       "      <td>0.601508</td>\n",
       "      <td>0.601508</td>\n",
       "      <td>0.601508</td>\n",
       "      <td>0.601508</td>\n",
       "      <td>0.601508</td>\n",
       "    </tr>\n",
       "  </tbody>\n",
       "</table>\n",
       "</div>"
      ],
      "text/plain": [
       "Evaluation Metrics     d = 1     d = 2     d = 3     d = 4     d = 5  \\\n",
       "Jaccard             0.682927  0.682927  0.682927  0.655462  0.647059   \n",
       "F1                  0.554259  0.554259  0.554259  0.592562  0.587317   \n",
       "\n",
       "Evaluation Metrics     d = 6     d = 7     d = 8     d = 9    d = 10  \\\n",
       "Jaccard             0.647059  0.652542  0.652542  0.652542  0.652542   \n",
       "F1                  0.587317  0.601508  0.601508  0.601508  0.601508   \n",
       "\n",
       "Evaluation Metrics    d = 11    d = 12    d = 13    d = 14    d = 15  \\\n",
       "Jaccard             0.652542  0.652542  0.652542  0.652542  0.652542   \n",
       "F1                  0.601508  0.601508  0.601508  0.601508  0.601508   \n",
       "\n",
       "Evaluation Metrics    d = 16    d = 17    d = 18    d = 19  \n",
       "Jaccard             0.652542  0.652542  0.652542  0.652542  \n",
       "F1                  0.601508  0.601508  0.601508  0.601508  "
      ]
     },
     "execution_count": 32,
     "metadata": {},
     "output_type": "execute_result"
    }
   ],
   "source": [
    "# Create dataframe with jaccard and F1 accuaracy values to determine best max depth. We see the best max depth is d = 12. \n",
    "result = pd.DataFrame([jaccard_score_, f1_score_], index = ['Jaccard', 'F1'], columns = ['d = 1','d = 2','d = 3','d = 4','d = 5','d = 6','d = 7','d = 8','d = 9','d = 10', 'd = 11', 'd = 12', 'd = 13', 'd = 14', 'd = 15', 'd = 16', 'd = 17', 'd = 18', 'd = 19'])\n",
    "result.columns.name = 'Evaluation Metrics'\n",
    "result"
   ]
  },
  {
   "cell_type": "code",
   "execution_count": 33,
   "id": "0e39989e",
   "metadata": {},
   "outputs": [
    {
     "data": {
      "image/png": "[encoded data removed]",
      "text/plain": [
       "<Figure size 432x288 with 1 Axes>"
      ]
     },
     "metadata": {},
     "output_type": "display_data"
    }
   ],
   "source": [
    "# Plot accuracy of various max depths, jaccard score in blue and F1 score in red. \n",
    "plt.plot(range(1,20),jaccard_score_)\n",
    "plt.plot(range(1,20),f1_score_, c='r')\n",
    "plt.xlabel('Max Depth')\n",
    "plt.ylabel('Accuracy')\n",
    "plt.show()"
   ]
  },
  {
   "cell_type": "code",
   "execution_count": 34,
   "id": "618447d9",
   "metadata": {},
   "outputs": [
    {
     "data": {
      "text/plain": [
       "DecisionTreeClassifier(criterion='entropy', max_depth=12)"
      ]
     },
     "execution_count": 34,
     "metadata": {},
     "output_type": "execute_result"
    }
   ],
   "source": [
    "# Set tree algorithm to max depth 12\n",
    "dec_tree = DecisionTreeClassifier(criterion=\"entropy\", max_depth = 12)\n",
    "dec_tree"
   ]
  },
  {
   "cell_type": "code",
   "execution_count": 35,
   "id": "ab84e76d",
   "metadata": {},
   "outputs": [
    {
     "data": {
      "text/plain": [
       "DecisionTreeClassifier(criterion='entropy', max_depth=12)"
      ]
     },
     "execution_count": 35,
     "metadata": {},
     "output_type": "execute_result"
    }
   ],
   "source": [
    "# Train decision tree\n",
    "dec_tree.fit(X_train,y_train)"
   ]
  },
  {
   "cell_type": "code",
   "execution_count": 36,
   "id": "cc7fb7fc",
   "metadata": {},
   "outputs": [
    {
     "data": {
      "text/plain": [
       "array([1, 1, 1, 1, 1], dtype=int64)"
      ]
     },
     "execution_count": 36,
     "metadata": {},
     "output_type": "execute_result"
    }
   ],
   "source": [
    "# Make prediction on test set using our model\n",
    "y_hat_tree = dec_tree.predict(X_test)\n",
    "y_hat_tree[0:5]"
   ]
  },
  {
   "cell_type": "code",
   "execution_count": 37,
   "id": "5b541131",
   "metadata": {},
   "outputs": [
    {
     "name": "stdout",
     "output_type": "stream",
     "text": [
      "              precision    recall  f1-score   support\n",
      "\n",
      "           0       0.42      0.13      0.20        39\n",
      "           1       0.69      0.92      0.79        84\n",
      "\n",
      "    accuracy                           0.67       123\n",
      "   macro avg       0.56      0.52      0.49       123\n",
      "weighted avg       0.61      0.67      0.60       123\n",
      "\n"
     ]
    }
   ],
   "source": [
    "# Confusion matrix report\n",
    "np.set_printoptions(precision=2)\n",
    "print (classification_report(y_test, y_hat_tree))"
   ]
  },
  {
   "cell_type": "code",
   "execution_count": 38,
   "id": "c9ccfa22",
   "metadata": {},
   "outputs": [
    {
     "data": {
      "text/plain": [
       "0.652542372881356"
      ]
     },
     "execution_count": 38,
     "metadata": {},
     "output_type": "execute_result"
    }
   ],
   "source": [
    "# Jaccard similarity score for decision tree\n",
    "jaccard_tree = jaccard_score(y_test, y_hat_tree)\n",
    "jaccard_tree"
   ]
  },
  {
   "cell_type": "code",
   "execution_count": 39,
   "id": "65335240",
   "metadata": {},
   "outputs": [
    {
     "data": {
      "text/plain": [
       "0.6015082956259427"
      ]
     },
     "execution_count": 39,
     "metadata": {},
     "output_type": "execute_result"
    }
   ],
   "source": [
    "# F1 score for decision tree\n",
    "f1_tree = f1_score(y_test, y_hat_tree, average='weighted')\n",
    "f1_tree"
   ]
  },
  {
   "cell_type": "markdown",
   "id": "804811bf",
   "metadata": {},
   "source": [
    "# SVM"
   ]
  },
  {
   "cell_type": "code",
   "execution_count": 40,
   "id": "101ab5e3",
   "metadata": {},
   "outputs": [
    {
     "data": {
      "text/plain": [
       "[0.5676655052264808,\n",
       " 0.5684711481261155,\n",
       " 0.5728036940563581,\n",
       " 0.5542594556380346]"
      ]
     },
     "execution_count": 40,
     "metadata": {},
     "output_type": "execute_result"
    }
   ],
   "source": [
    "# Determine optimal kernel function\n",
    "\n",
    "# Array of kernel functions\n",
    "kernel_func = ['sigmoid', 'poly', 'rbf', 'linear']\n",
    "\n",
    "# Empty array for accuracy score (F1 score)\n",
    "accuracy_score = []\n",
    "\n",
    "# For each kernel function, train SVM model, run prediction on test set, calculate F1 score and append it to accuracy_score array\n",
    "for k in kernel_func:\n",
    "    svc_model = SVC(kernel = k) \n",
    "    svc_model.fit(X_train, y_train)\n",
    "    y_hat_svm = svc_model.predict(X_test)\n",
    "    accuracy_score.append(f1_score(y_test, y_hat_svm, average = 'weighted'))\n",
    "\n",
    "accuracy_score"
   ]
  },
  {
   "cell_type": "code",
   "execution_count": 41,
   "id": "ca7d6c48",
   "metadata": {},
   "outputs": [
    {
     "data": {
      "text/plain": [
       "Text(0, 0.5, 'Accuracy')"
      ]
     },
     "execution_count": 41,
     "metadata": {},
     "output_type": "execute_result"
    },
    {
     "data": {
      "image/png": "[encoded data removed]",
      "text/plain": [
       "<Figure size 432x288 with 1 Axes>"
      ]
     },
     "metadata": {},
     "output_type": "display_data"
    }
   ],
   "source": [
    "# Bar plot of accuracy score for each kernel function\n",
    "\n",
    "y_pos = np.arange(len(kernel_func))\n",
    "plt.bar(y_pos, accuracy_score, align='center', alpha = 0.6)\n",
    "plt.xticks(y_pos, kernel_func)\n",
    "plt.xlabel('Kernel Functions')\n",
    "plt.ylabel('Accuracy')"
   ]
  },
  {
   "cell_type": "code",
   "execution_count": 42,
   "id": "838eace0",
   "metadata": {},
   "outputs": [],
   "source": [
    "# Set SVM algorithm with polynomial kernel function\n",
    "svc_model = SVC(kernel = 'poly')"
   ]
  },
  {
   "cell_type": "code",
   "execution_count": 43,
   "id": "5d67c42b",
   "metadata": {},
   "outputs": [
    {
     "data": {
      "text/plain": [
       "SVC(kernel='poly')"
      ]
     },
     "execution_count": 43,
     "metadata": {},
     "output_type": "execute_result"
    }
   ],
   "source": [
    "# Train SVM model \n",
    "svc_model.fit(X_train, y_train)\n",
    "svc_model"
   ]
  },
  {
   "cell_type": "code",
   "execution_count": 44,
   "id": "37d0be51",
   "metadata": {},
   "outputs": [
    {
     "data": {
      "text/plain": [
       "array([1, 1, 1, 1, 1], dtype=int64)"
      ]
     },
     "execution_count": 44,
     "metadata": {},
     "output_type": "execute_result"
    }
   ],
   "source": [
    "# Make prediction on test set using our model\n",
    "y_hat_svm = svc_model.predict(X_test)\n",
    "y_hat_svm [0:5]"
   ]
  },
  {
   "cell_type": "code",
   "execution_count": 45,
   "id": "bdf0aff6",
   "metadata": {},
   "outputs": [
    {
     "name": "stdout",
     "output_type": "stream",
     "text": [
      "              precision    recall  f1-score   support\n",
      "\n",
      "           0       0.50      0.03      0.05        39\n",
      "           1       0.69      0.99      0.81        84\n",
      "\n",
      "    accuracy                           0.68       123\n",
      "   macro avg       0.59      0.51      0.43       123\n",
      "weighted avg       0.63      0.68      0.57       123\n",
      "\n"
     ]
    }
   ],
   "source": [
    "# Confusion matrix report\n",
    "np.set_printoptions(precision=2)\n",
    "print (classification_report(y_test, y_hat_svm))"
   ]
  },
  {
   "cell_type": "code",
   "execution_count": 46,
   "id": "00cf476e",
   "metadata": {},
   "outputs": [
    {
     "data": {
      "text/plain": [
       "0.680327868852459"
      ]
     },
     "execution_count": 46,
     "metadata": {},
     "output_type": "execute_result"
    }
   ],
   "source": [
    "# Jaccard similarity score for SVM\n",
    "jaccard_svm = jaccard_score(y_test, y_hat_svm)\n",
    "jaccard_svm"
   ]
  },
  {
   "cell_type": "code",
   "execution_count": 47,
   "id": "0b88e04d",
   "metadata": {},
   "outputs": [
    {
     "data": {
      "text/plain": [
       "0.5684711481261155"
      ]
     },
     "execution_count": 47,
     "metadata": {},
     "output_type": "execute_result"
    }
   ],
   "source": [
    "# F1 score for SVM\n",
    "f1_svm = f1_score(y_test, y_hat_svm, average='weighted')\n",
    "f1_svm"
   ]
  },
  {
   "cell_type": "markdown",
   "id": "fa77c0a7",
   "metadata": {},
   "source": [
    "# Logistic Regression"
   ]
  },
  {
   "cell_type": "code",
   "execution_count": 48,
   "id": "df01fb5e",
   "metadata": {},
   "outputs": [
    {
     "name": "stdout",
     "output_type": "stream",
     "text": [
      "Test 1: Accuracy at C = 0.1 when Solver = newton-cg is : 0.616221741691069\n",
      "Test 2: Accuracy at C = 0.1 when Solver = lbfgs is : 0.6162217692296336\n",
      "Test 3: Accuracy at C = 0.1 when Solver = liblinear is : 0.6170274259598264\n",
      "Test 4: Accuracy at C = 0.1 when Solver = sag is : 0.6162217952058499\n",
      "Test 5: Accuracy at C = 0.1 when Solver = saga is : 0.6162218720991819\n",
      "\n",
      "\n",
      "Test 6: Accuracy at C = 0.01 when Solver = newton-cg is : 0.6181911509286047\n",
      "Test 7: Accuracy at C = 0.01 when Solver = lbfgs is : 0.6181913158707719\n",
      "Test 8: Accuracy at C = 0.01 when Solver = liblinear is : 0.6340820291943249\n",
      "Test 9: Accuracy at C = 0.01 when Solver = sag is : 0.6181903662486554\n",
      "Test 10: Accuracy at C = 0.01 when Solver = saga is : 0.6181910311542225\n",
      "\n",
      "\n",
      "Test 11: Accuracy at C = 0.001 when Solver = newton-cg is : 0.6231382258821246\n",
      "Test 12: Accuracy at C = 0.001 when Solver = lbfgs is : 0.6231382174096047\n",
      "Test 13: Accuracy at C = 0.001 when Solver = liblinear is : 0.6780903523749681\n",
      "Test 14: Accuracy at C = 0.001 when Solver = sag is : 0.6231380493257878\n",
      "Test 15: Accuracy at C = 0.001 when Solver = saga is : 0.6231381697021466\n",
      "\n",
      "\n"
     ]
    }
   ],
   "source": [
    "solvers = ['newton-cg', 'lbfgs', 'liblinear', 'sag', 'saga']\n",
    "regularization_val = [0.1, 0.01, 0.001]\n",
    "index = []\n",
    "accuracy_score = []\n",
    "iterations = 0\n",
    "\n",
    "for index1, c in enumerate(regularization_val):\n",
    "    for index2, solver in enumerate(solvers):\n",
    "        index.append(index1 + index2 *5)\n",
    "        iterations +=1\n",
    "        lr_model = LogisticRegression(C = c, solver = solver)\n",
    "        lr_model.fit(X_train, y_train)\n",
    "        y_hat_lr = lr_model.predict(X_test)\n",
    "        y_prob = lr_model.predict_proba(X_test)\n",
    "        print('Test {}: Accuracy at C = {} when Solver = {} is : {}'.format(iterations, c, solver, log_loss(y_test, y_prob) ))\n",
    "        accuracy_score.append(log_loss(y_test, y_prob))\n",
    "                              \n",
    "    print('\\n')"
   ]
  },
  {
   "cell_type": "code",
   "execution_count": 49,
   "id": "75f5a96c",
   "metadata": {},
   "outputs": [
    {
     "data": {
      "text/plain": [
       "Text(0, 0.5, 'Testing Accuracy')"
      ]
     },
     "execution_count": 49,
     "metadata": {},
     "output_type": "execute_result"
    },
    {
     "data": {
      "image/png": "[encoded data removed]",
      "text/plain": [
       "<Figure size 432x288 with 1 Axes>"
      ]
     },
     "metadata": {},
     "output_type": "display_data"
    }
   ],
   "source": [
    "# Visualize the above accuracy tests, with the peak at test 13, which corresponds to C = 0.001 and solver = liblinear\n",
    "\n",
    "lr_prob = lr_model.predict_proba(X_test)\n",
    "log_loss(y_test, lr_prob)\n",
    "plt.plot(index, accuracy_score)\n",
    "plt.xlabel('Parameter Value')\n",
    "plt.ylabel('Testing Accuracy')"
   ]
  },
  {
   "cell_type": "code",
   "execution_count": 50,
   "id": "b8d38d7a",
   "metadata": {},
   "outputs": [],
   "source": [
    "# Set logistic regression with optimal regularization of C = 0.001 and solver = 'liblinear'\n",
    "lr_model = LogisticRegression(C = 0.001, solver = 'liblinear')"
   ]
  },
  {
   "cell_type": "code",
   "execution_count": 51,
   "id": "a7cca656",
   "metadata": {},
   "outputs": [
    {
     "data": {
      "text/plain": [
       "LogisticRegression(C=0.001, solver='liblinear')"
      ]
     },
     "execution_count": 51,
     "metadata": {},
     "output_type": "execute_result"
    }
   ],
   "source": [
    "# Train logistic regression model\n",
    "lr_model.fit(X_train, y_train)\n",
    "lr_model"
   ]
  },
  {
   "cell_type": "code",
   "execution_count": 52,
   "id": "46a07f75",
   "metadata": {},
   "outputs": [],
   "source": [
    "# Make prediction on test set using our model\n",
    "y_hat_lr = lr_model.predict(X_test)"
   ]
  },
  {
   "cell_type": "code",
   "execution_count": 53,
   "id": "7a61504b",
   "metadata": {},
   "outputs": [],
   "source": [
    "# Determine probabilities of loan classification using our test set. We'll need this for our logloss score. \n",
    "y_hat_lr_prob = lr_model.predict_proba(X_test)"
   ]
  },
  {
   "cell_type": "code",
   "execution_count": 54,
   "id": "c8d2f60e",
   "metadata": {},
   "outputs": [
    {
     "name": "stdout",
     "output_type": "stream",
     "text": [
      "              precision    recall  f1-score   support\n",
      "\n",
      "           0       0.00      0.00      0.00        39\n",
      "           1       0.68      1.00      0.81        84\n",
      "\n",
      "    accuracy                           0.68       123\n",
      "   macro avg       0.34      0.50      0.41       123\n",
      "weighted avg       0.47      0.68      0.55       123\n",
      "\n"
     ]
    }
   ],
   "source": [
    "# Confusion matrix report\n",
    "np.set_printoptions(precision=2)\n",
    "print (classification_report(y_test, y_hat_lr))"
   ]
  },
  {
   "cell_type": "code",
   "execution_count": 55,
   "id": "c29f2402",
   "metadata": {},
   "outputs": [
    {
     "data": {
      "text/plain": [
       "0.6829268292682927"
      ]
     },
     "execution_count": 55,
     "metadata": {},
     "output_type": "execute_result"
    }
   ],
   "source": [
    "# Jaccard similarity score for logistic regression\n",
    "jaccard_lr = jaccard_score(y_test, y_hat_lr)\n",
    "jaccard_lr"
   ]
  },
  {
   "cell_type": "code",
   "execution_count": 56,
   "id": "0495ec35",
   "metadata": {},
   "outputs": [
    {
     "data": {
      "text/plain": [
       "0.5542594556380346"
      ]
     },
     "execution_count": 56,
     "metadata": {},
     "output_type": "execute_result"
    }
   ],
   "source": [
    "# F1 score for logistic regression\n",
    "f1_lr = f1_score(y_test, y_hat_lr, average='weighted')\n",
    "f1_lr"
   ]
  },
  {
   "cell_type": "code",
   "execution_count": 57,
   "id": "ae0eabf6",
   "metadata": {},
   "outputs": [
    {
     "data": {
      "text/plain": [
       "0.6780903523749681"
      ]
     },
     "execution_count": 57,
     "metadata": {},
     "output_type": "execute_result"
    }
   ],
   "source": [
    "# Logloss for logistic regression\n",
    "logloss_lr = log_loss(y_test, y_hat_lr_prob)\n",
    "logloss_lr"
   ]
  },
  {
   "cell_type": "markdown",
   "id": "da81b26a",
   "metadata": {},
   "source": [
    "# Evaluation"
   ]
  },
  {
   "cell_type": "code",
   "execution_count": 58,
   "id": "f055179c",
   "metadata": {},
   "outputs": [
    {
     "data": {
      "text/html": [
       "<div>\n",
       "<style scoped>\n",
       "    .dataframe tbody tr th:only-of-type {\n",
       "        vertical-align: middle;\n",
       "    }\n",
       "\n",
       "    .dataframe tbody tr th {\n",
       "        vertical-align: top;\n",
       "    }\n",
       "\n",
       "    .dataframe thead th {\n",
       "        text-align: right;\n",
       "    }\n",
       "</style>\n",
       "<table border=\"1\" class=\"dataframe\">\n",
       "  <thead>\n",
       "    <tr style=\"text-align: right;\">\n",
       "      <th>Algorithm</th>\n",
       "      <th>Jaccard</th>\n",
       "      <th>F1-score</th>\n",
       "      <th>Log Loss</th>\n",
       "    </tr>\n",
       "  </thead>\n",
       "  <tbody>\n",
       "    <tr>\n",
       "      <th>KNN</th>\n",
       "      <td>0.605042</td>\n",
       "      <td>0.560997</td>\n",
       "      <td>NA</td>\n",
       "    </tr>\n",
       "    <tr>\n",
       "      <th>Decision Tree</th>\n",
       "      <td>0.652542</td>\n",
       "      <td>0.601508</td>\n",
       "      <td>NA</td>\n",
       "    </tr>\n",
       "    <tr>\n",
       "      <th>SVM</th>\n",
       "      <td>0.680328</td>\n",
       "      <td>0.568471</td>\n",
       "      <td>NA</td>\n",
       "    </tr>\n",
       "    <tr>\n",
       "      <th>Logistic Regression</th>\n",
       "      <td>0.682927</td>\n",
       "      <td>0.554259</td>\n",
       "      <td>0.67809</td>\n",
       "    </tr>\n",
       "  </tbody>\n",
       "</table>\n",
       "</div>"
      ],
      "text/plain": [
       "Algorithm             Jaccard  F1-score Log Loss\n",
       "KNN                  0.605042  0.560997       NA\n",
       "Decision Tree        0.652542  0.601508       NA\n",
       "SVM                  0.680328  0.568471       NA\n",
       "Logistic Regression  0.682927  0.554259  0.67809"
      ]
     },
     "execution_count": 58,
     "metadata": {},
     "output_type": "execute_result"
    }
   ],
   "source": [
    "# Create dataframe with evaluation metrics\n",
    "evaluation = {\"Jaccard\":[jaccard_knn, jaccard_tree, jaccard_svm, jaccard_lr], \n",
    "             \"F1-score\":[f1_knn, f1_tree, f1_svm, f1_lr],\n",
    "             \"Log Loss\":[\"NA\", \"NA\", \"NA\", logloss_lr] \n",
    "             }\n",
    "eval_df = pd.DataFrame(evaluation, columns=[\"Jaccard\", \"F1-score\", \"Log Loss\"], index=[\"KNN\", \"Decision Tree\", \"SVM\", \"Logistic Regression\"])\n",
    "eval_df.columns.name = \"Algorithm\"\n",
    "eval_df"
   ]
  },
  {
   "cell_type": "code",
   "execution_count": null,
   "id": "32d5a880",
   "metadata": {},
   "outputs": [],
   "source": []
  }
 ],
 "metadata": {
  "kernelspec": {
   "display_name": "Python 3 (ipykernel)",
   "language": "python",
   "name": "python3"
  },
  "language_info": {
   "codemirror_mode": {
    "name": "ipython",
    "version": 3
   },
   "file_extension": ".py",
   "mimetype": "text/x-python",
   "name": "python",
   "nbconvert_exporter": "python",
   "pygments_lexer": "ipython3",
   "version": "3.9.12"
  }
 },
 "nbformat": 4,
 "nbformat_minor": 5
}
